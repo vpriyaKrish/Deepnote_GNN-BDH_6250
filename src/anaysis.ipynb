{
 "cells": [
  {
   "cell_type": "code",
   "execution_count": 2,
   "id": "initial_id",
   "metadata": {
    "collapsed": true,
    "ExecuteTime": {
     "end_time": "2023-11-10T16:12:59.019334Z",
     "start_time": "2023-11-10T16:12:58.533441Z"
    }
   },
   "outputs": [],
   "source": [
    "import csv\n",
    "import pandas as pd"
   ]
  },
  {
   "cell_type": "markdown",
   "source": [
    "Read files"
   ],
   "metadata": {
    "collapsed": false
   },
   "id": "d6c9541a8ab1665c"
  },
  {
   "cell_type": "code",
   "execution_count": 4,
   "outputs": [
    {
     "data": {
      "text/plain": "   ROW_ID  SUBJECT_ID  HADM_ID            ADMITTIME            DISCHTIME  \\\n0      21          22   165315  2196-04-09 12:26:00  2196-04-10 15:54:00   \n1      22          23   152223  2153-09-03 07:15:00  2153-09-08 19:10:00   \n2      23          23   124321  2157-10-18 19:34:00  2157-10-25 14:00:00   \n3      24          24   161859  2139-06-06 16:14:00  2139-06-09 12:48:00   \n4      25          25   129635  2160-11-02 02:06:00  2160-11-05 14:55:00   \n\n  DEATHTIME ADMISSION_TYPE         ADMISSION_LOCATION  \\\n0       NaN      EMERGENCY       EMERGENCY ROOM ADMIT   \n1       NaN       ELECTIVE  PHYS REFERRAL/NORMAL DELI   \n2       NaN      EMERGENCY  TRANSFER FROM HOSP/EXTRAM   \n3       NaN      EMERGENCY  TRANSFER FROM HOSP/EXTRAM   \n4       NaN      EMERGENCY       EMERGENCY ROOM ADMIT   \n\n          DISCHARGE_LOCATION INSURANCE LANGUAGE           RELIGION  \\\n0  DISC-TRAN CANCER/CHLDRN H   Private      NaN       UNOBTAINABLE   \n1           HOME HEALTH CARE  Medicare      NaN           CATHOLIC   \n2           HOME HEALTH CARE  Medicare     ENGL           CATHOLIC   \n3                       HOME   Private      NaN  PROTESTANT QUAKER   \n4                       HOME   Private      NaN       UNOBTAINABLE   \n\n  MARITAL_STATUS ETHNICITY            EDREGTIME            EDOUTTIME  \\\n0        MARRIED     WHITE  2196-04-09 10:06:00  2196-04-09 13:24:00   \n1        MARRIED     WHITE                  NaN                  NaN   \n2        MARRIED     WHITE                  NaN                  NaN   \n3         SINGLE     WHITE                  NaN                  NaN   \n4        MARRIED     WHITE  2160-11-02 01:01:00  2160-11-02 04:27:00   \n\n                                           DIAGNOSIS  HOSPITAL_EXPIRE_FLAG  \\\n0                            BENZODIAZEPINE OVERDOSE                     0   \n1  CORONARY ARTERY DISEASE\\CORONARY ARTERY BYPASS...                     0   \n2                                         BRAIN MASS                     0   \n3                     INTERIOR MYOCARDIAL INFARCTION                     0   \n4                            ACUTE CORONARY SYNDROME                     0   \n\n   HAS_CHARTEVENTS_DATA  \n0                     1  \n1                     1  \n2                     1  \n3                     1  \n4                     1  ",
      "text/html": "<div>\n<style scoped>\n    .dataframe tbody tr th:only-of-type {\n        vertical-align: middle;\n    }\n\n    .dataframe tbody tr th {\n        vertical-align: top;\n    }\n\n    .dataframe thead th {\n        text-align: right;\n    }\n</style>\n<table border=\"1\" class=\"dataframe\">\n  <thead>\n    <tr style=\"text-align: right;\">\n      <th></th>\n      <th>ROW_ID</th>\n      <th>SUBJECT_ID</th>\n      <th>HADM_ID</th>\n      <th>ADMITTIME</th>\n      <th>DISCHTIME</th>\n      <th>DEATHTIME</th>\n      <th>ADMISSION_TYPE</th>\n      <th>ADMISSION_LOCATION</th>\n      <th>DISCHARGE_LOCATION</th>\n      <th>INSURANCE</th>\n      <th>LANGUAGE</th>\n      <th>RELIGION</th>\n      <th>MARITAL_STATUS</th>\n      <th>ETHNICITY</th>\n      <th>EDREGTIME</th>\n      <th>EDOUTTIME</th>\n      <th>DIAGNOSIS</th>\n      <th>HOSPITAL_EXPIRE_FLAG</th>\n      <th>HAS_CHARTEVENTS_DATA</th>\n    </tr>\n  </thead>\n  <tbody>\n    <tr>\n      <th>0</th>\n      <td>21</td>\n      <td>22</td>\n      <td>165315</td>\n      <td>2196-04-09 12:26:00</td>\n      <td>2196-04-10 15:54:00</td>\n      <td>NaN</td>\n      <td>EMERGENCY</td>\n      <td>EMERGENCY ROOM ADMIT</td>\n      <td>DISC-TRAN CANCER/CHLDRN H</td>\n      <td>Private</td>\n      <td>NaN</td>\n      <td>UNOBTAINABLE</td>\n      <td>MARRIED</td>\n      <td>WHITE</td>\n      <td>2196-04-09 10:06:00</td>\n      <td>2196-04-09 13:24:00</td>\n      <td>BENZODIAZEPINE OVERDOSE</td>\n      <td>0</td>\n      <td>1</td>\n    </tr>\n    <tr>\n      <th>1</th>\n      <td>22</td>\n      <td>23</td>\n      <td>152223</td>\n      <td>2153-09-03 07:15:00</td>\n      <td>2153-09-08 19:10:00</td>\n      <td>NaN</td>\n      <td>ELECTIVE</td>\n      <td>PHYS REFERRAL/NORMAL DELI</td>\n      <td>HOME HEALTH CARE</td>\n      <td>Medicare</td>\n      <td>NaN</td>\n      <td>CATHOLIC</td>\n      <td>MARRIED</td>\n      <td>WHITE</td>\n      <td>NaN</td>\n      <td>NaN</td>\n      <td>CORONARY ARTERY DISEASE\\CORONARY ARTERY BYPASS...</td>\n      <td>0</td>\n      <td>1</td>\n    </tr>\n    <tr>\n      <th>2</th>\n      <td>23</td>\n      <td>23</td>\n      <td>124321</td>\n      <td>2157-10-18 19:34:00</td>\n      <td>2157-10-25 14:00:00</td>\n      <td>NaN</td>\n      <td>EMERGENCY</td>\n      <td>TRANSFER FROM HOSP/EXTRAM</td>\n      <td>HOME HEALTH CARE</td>\n      <td>Medicare</td>\n      <td>ENGL</td>\n      <td>CATHOLIC</td>\n      <td>MARRIED</td>\n      <td>WHITE</td>\n      <td>NaN</td>\n      <td>NaN</td>\n      <td>BRAIN MASS</td>\n      <td>0</td>\n      <td>1</td>\n    </tr>\n    <tr>\n      <th>3</th>\n      <td>24</td>\n      <td>24</td>\n      <td>161859</td>\n      <td>2139-06-06 16:14:00</td>\n      <td>2139-06-09 12:48:00</td>\n      <td>NaN</td>\n      <td>EMERGENCY</td>\n      <td>TRANSFER FROM HOSP/EXTRAM</td>\n      <td>HOME</td>\n      <td>Private</td>\n      <td>NaN</td>\n      <td>PROTESTANT QUAKER</td>\n      <td>SINGLE</td>\n      <td>WHITE</td>\n      <td>NaN</td>\n      <td>NaN</td>\n      <td>INTERIOR MYOCARDIAL INFARCTION</td>\n      <td>0</td>\n      <td>1</td>\n    </tr>\n    <tr>\n      <th>4</th>\n      <td>25</td>\n      <td>25</td>\n      <td>129635</td>\n      <td>2160-11-02 02:06:00</td>\n      <td>2160-11-05 14:55:00</td>\n      <td>NaN</td>\n      <td>EMERGENCY</td>\n      <td>EMERGENCY ROOM ADMIT</td>\n      <td>HOME</td>\n      <td>Private</td>\n      <td>NaN</td>\n      <td>UNOBTAINABLE</td>\n      <td>MARRIED</td>\n      <td>WHITE</td>\n      <td>2160-11-02 01:01:00</td>\n      <td>2160-11-02 04:27:00</td>\n      <td>ACUTE CORONARY SYNDROME</td>\n      <td>0</td>\n      <td>1</td>\n    </tr>\n  </tbody>\n</table>\n</div>"
     },
     "execution_count": 4,
     "metadata": {},
     "output_type": "execute_result"
    }
   ],
   "source": [
    "adm_file = '../data/ADMISSIONS.csv'\n",
    "adm_df = pd.read_csv(adm_file)\n",
    "adm_df.head(5)"
   ],
   "metadata": {
    "collapsed": false,
    "ExecuteTime": {
     "end_time": "2023-11-10T16:13:09.666431Z",
     "start_time": "2023-11-10T16:13:09.518994Z"
    }
   },
   "id": "f8e0520baae908a3"
  },
  {
   "cell_type": "code",
   "execution_count": 5,
   "outputs": [
    {
     "name": "stderr",
     "output_type": "stream",
     "text": [
      "/var/folders/8j/rqc64sds4s79pkd4p8lbk96m0000gn/T/ipykernel_71691/1152086429.py:2: DtypeWarning: Columns (4,5) have mixed types. Specify dtype option on import or set low_memory=False.\n",
      "  notes_df = pd.read_csv(notes_file)\n"
     ]
    },
    {
     "data": {
      "text/plain": "   ROW_ID  SUBJECT_ID   HADM_ID   CHARTDATE CHARTTIME STORETIME  \\\n0     174       22532  167853.0  2151-08-04       NaN       NaN   \n1     175       13702  107527.0  2118-06-14       NaN       NaN   \n2     176       13702  167118.0  2119-05-25       NaN       NaN   \n3     177       13702  196489.0  2124-08-18       NaN       NaN   \n4     178       26880  135453.0  2162-03-25       NaN       NaN   \n\n            CATEGORY DESCRIPTION  CGID  ISERROR  \\\n0  Discharge summary      Report   NaN      NaN   \n1  Discharge summary      Report   NaN      NaN   \n2  Discharge summary      Report   NaN      NaN   \n3  Discharge summary      Report   NaN      NaN   \n4  Discharge summary      Report   NaN      NaN   \n\n                                                TEXT  \n0  Admission Date:  [**2151-7-16**]       Dischar...  \n1  Admission Date:  [**2118-6-2**]       Discharg...  \n2  Admission Date:  [**2119-5-4**]              D...  \n3  Admission Date:  [**2124-7-21**]              ...  \n4  Admission Date:  [**2162-3-3**]              D...  ",
      "text/html": "<div>\n<style scoped>\n    .dataframe tbody tr th:only-of-type {\n        vertical-align: middle;\n    }\n\n    .dataframe tbody tr th {\n        vertical-align: top;\n    }\n\n    .dataframe thead th {\n        text-align: right;\n    }\n</style>\n<table border=\"1\" class=\"dataframe\">\n  <thead>\n    <tr style=\"text-align: right;\">\n      <th></th>\n      <th>ROW_ID</th>\n      <th>SUBJECT_ID</th>\n      <th>HADM_ID</th>\n      <th>CHARTDATE</th>\n      <th>CHARTTIME</th>\n      <th>STORETIME</th>\n      <th>CATEGORY</th>\n      <th>DESCRIPTION</th>\n      <th>CGID</th>\n      <th>ISERROR</th>\n      <th>TEXT</th>\n    </tr>\n  </thead>\n  <tbody>\n    <tr>\n      <th>0</th>\n      <td>174</td>\n      <td>22532</td>\n      <td>167853.0</td>\n      <td>2151-08-04</td>\n      <td>NaN</td>\n      <td>NaN</td>\n      <td>Discharge summary</td>\n      <td>Report</td>\n      <td>NaN</td>\n      <td>NaN</td>\n      <td>Admission Date:  [**2151-7-16**]       Dischar...</td>\n    </tr>\n    <tr>\n      <th>1</th>\n      <td>175</td>\n      <td>13702</td>\n      <td>107527.0</td>\n      <td>2118-06-14</td>\n      <td>NaN</td>\n      <td>NaN</td>\n      <td>Discharge summary</td>\n      <td>Report</td>\n      <td>NaN</td>\n      <td>NaN</td>\n      <td>Admission Date:  [**2118-6-2**]       Discharg...</td>\n    </tr>\n    <tr>\n      <th>2</th>\n      <td>176</td>\n      <td>13702</td>\n      <td>167118.0</td>\n      <td>2119-05-25</td>\n      <td>NaN</td>\n      <td>NaN</td>\n      <td>Discharge summary</td>\n      <td>Report</td>\n      <td>NaN</td>\n      <td>NaN</td>\n      <td>Admission Date:  [**2119-5-4**]              D...</td>\n    </tr>\n    <tr>\n      <th>3</th>\n      <td>177</td>\n      <td>13702</td>\n      <td>196489.0</td>\n      <td>2124-08-18</td>\n      <td>NaN</td>\n      <td>NaN</td>\n      <td>Discharge summary</td>\n      <td>Report</td>\n      <td>NaN</td>\n      <td>NaN</td>\n      <td>Admission Date:  [**2124-7-21**]              ...</td>\n    </tr>\n    <tr>\n      <th>4</th>\n      <td>178</td>\n      <td>26880</td>\n      <td>135453.0</td>\n      <td>2162-03-25</td>\n      <td>NaN</td>\n      <td>NaN</td>\n      <td>Discharge summary</td>\n      <td>Report</td>\n      <td>NaN</td>\n      <td>NaN</td>\n      <td>Admission Date:  [**2162-3-3**]              D...</td>\n    </tr>\n  </tbody>\n</table>\n</div>"
     },
     "execution_count": 5,
     "metadata": {},
     "output_type": "execute_result"
    }
   ],
   "source": [
    "notes_file = '../data/NOTEEVENTS.csv'\n",
    "notes_df = pd.read_csv(notes_file)\n",
    "notes_df.head(5)"
   ],
   "metadata": {
    "collapsed": false,
    "ExecuteTime": {
     "end_time": "2023-11-10T16:13:47.033748Z",
     "start_time": "2023-11-10T16:13:15.773037Z"
    }
   },
   "id": "1008b158f3a79754"
  },
  {
   "cell_type": "code",
   "execution_count": null,
   "outputs": [],
   "source": [
    "chunks = [notes_df[i:i + 10000] for i in range(0, notes_df.shape[0], 10000)]\n",
    "\n",
    "# Save each chunk as a separate CSV file\n",
    "for i, chunk in enumerate(chunks):\n",
    "    chunk.to_csv(f'../data/chunk_{i}.csv', index=False)"
   ],
   "metadata": {
    "collapsed": false,
    "ExecuteTime": {
     "start_time": "2023-11-10T16:12:59.119788Z"
    }
   },
   "id": "a5d37a98af670f9e"
  },
  {
   "cell_type": "code",
   "execution_count": 6,
   "outputs": [
    {
     "name": "stdout",
     "output_type": "stream",
     "text": [
      "       SUBJECT_ID  row_count\n",
      "13             17          2\n",
      "17             21          2\n",
      "19             23          2\n",
      "29             34          2\n",
      "31             36          3\n",
      "...           ...        ...\n",
      "46470       99822          3\n",
      "46488       99883          2\n",
      "46491       99897          2\n",
      "46498       99923          2\n",
      "46513       99982          3\n",
      "\n",
      "[7537 rows x 2 columns]\n"
     ]
    }
   ],
   "source": [
    "grouped_df = adm_df.groupby('SUBJECT_ID').size().reset_index(name='row_count')\n",
    "readmit_df = grouped_df[grouped_df['row_count'] > 1]\n",
    "print(readmit_df)"
   ],
   "metadata": {
    "collapsed": false,
    "ExecuteTime": {
     "end_time": "2023-11-10T16:17:01.758263Z",
     "start_time": "2023-11-10T16:17:01.753264Z"
    }
   },
   "id": "a00fa92cf470a6be"
  },
  {
   "cell_type": "code",
   "execution_count": 9,
   "outputs": [
    {
     "name": "stdout",
     "output_type": "stream",
     "text": [
      "    ROW_ID  SUBJECT_ID  HADM_ID            ADMITTIME            DISCHTIME  \\\n",
      "15      36          36   182104  2131-04-30 07:15:00  2131-05-08 14:00:00   \n",
      "16      37          36   122659  2131-05-12 19:49:00  2131-05-25 13:30:00   \n",
      "17      38          36   165660  2134-05-10 11:30:00  2134-05-20 13:16:00   \n",
      "\n",
      "   DEATHTIME ADMISSION_TYPE         ADMISSION_LOCATION  \\\n",
      "15       NaN      EMERGENCY  CLINIC REFERRAL/PREMATURE   \n",
      "16       NaN      EMERGENCY       EMERGENCY ROOM ADMIT   \n",
      "17       NaN       ELECTIVE  PHYS REFERRAL/NORMAL DELI   \n",
      "\n",
      "          DISCHARGE_LOCATION INSURANCE LANGUAGE       RELIGION MARITAL_STATUS  \\\n",
      "15          HOME HEALTH CARE  Medicare     ENGL  NOT SPECIFIED        MARRIED   \n",
      "16  REHAB/DISTINCT PART HOSP  Medicare     ENGL  NOT SPECIFIED        MARRIED   \n",
      "17   LONG TERM CARE HOSPITAL  Medicare     ENGL  NOT SPECIFIED        MARRIED   \n",
      "\n",
      "   ETHNICITY            EDREGTIME            EDOUTTIME  \\\n",
      "15     WHITE                  NaN                  NaN   \n",
      "16     WHITE  2131-05-12 17:26:00  2131-05-12 22:17:00   \n",
      "17     WHITE                  NaN                  NaN   \n",
      "\n",
      "                                            DIAGNOSIS  HOSPITAL_EXPIRE_FLAG  \\\n",
      "15  CORONARY ARTERY DISEASE\\CORONARY ARTERY BYPASS...                     0   \n",
      "16                     CHEST PAIN/SHORTNESS OF BREATH                     0   \n",
      "17                                 VENTRAL HERNIA/SDA                     0   \n",
      "\n",
      "    HAS_CHARTEVENTS_DATA  \n",
      "15                     1  \n",
      "16                     1  \n",
      "17                     1  \n"
     ]
    }
   ],
   "source": [
    "filtered_df = notes_df[notes_df['SUBJECT_ID'] == 36]\n",
    "print(adm_df[adm_df['SUBJECT_ID'] == 36])"
   ],
   "metadata": {
    "collapsed": false,
    "ExecuteTime": {
     "end_time": "2023-11-10T16:25:39.032655Z",
     "start_time": "2023-11-10T16:25:39.006367Z"
    }
   },
   "id": "c1db05cc89e24cb0"
  },
  {
   "cell_type": "code",
   "execution_count": 10,
   "outputs": [
    {
     "name": "stdout",
     "output_type": "stream",
     "text": [
      "          ROW_ID  SUBJECT_ID   HADM_ID   CHARTDATE            CHARTTIME  \\\n",
      "6655        7412          36  182104.0  2131-05-08                  NaN   \n",
      "6656        7413          36  122659.0  2131-05-25                  NaN   \n",
      "6657        7414          36  165660.0  2134-05-20                  NaN   \n",
      "68074      67800          36  165660.0  2134-05-12                  NaN   \n",
      "68075      67801          36  122659.0  2131-05-19                  NaN   \n",
      "...          ...         ...       ...         ...                  ...   \n",
      "1300325  1260955          36  122659.0  2131-05-21  2131-05-21 21:53:00   \n",
      "1300326  1260956          36  122659.0  2131-05-22  2131-05-22 04:12:00   \n",
      "1300553  1260957          36  122659.0  2131-05-22  2131-05-22 06:29:00   \n",
      "1300919  1260927          36  182104.0  2131-05-05  2131-05-05 04:39:00   \n",
      "1300920  1260928          36  182104.0  2131-05-05  2131-05-05 06:20:00   \n",
      "\n",
      "                   STORETIME           CATEGORY DESCRIPTION     CGID  ISERROR  \\\n",
      "6655                     NaN  Discharge summary      Report      NaN      NaN   \n",
      "6656                     NaN  Discharge summary      Report      NaN      NaN   \n",
      "6657                     NaN  Discharge summary      Report      NaN      NaN   \n",
      "68074                    NaN               Echo      Report      NaN      NaN   \n",
      "68075                    NaN               Echo      Report      NaN      NaN   \n",
      "...                      ...                ...         ...      ...      ...   \n",
      "1300325  2131-05-21 22:00:00      Nursing/other      Report  15038.0      NaN   \n",
      "1300326  2131-05-22 04:52:00      Nursing/other      Report  14605.0      NaN   \n",
      "1300553  2131-05-22 06:31:00      Nursing/other      Report  15807.0      NaN   \n",
      "1300919  2131-05-05 04:54:00      Nursing/other      Report  17130.0      NaN   \n",
      "1300920  2131-05-05 06:23:00      Nursing/other      Report  19986.0      NaN   \n",
      "\n",
      "                                                      TEXT  \n",
      "6655     Admission Date:  [**2131-4-30**]              ...  \n",
      "6656     Admission Date:  [**2131-5-12**]              ...  \n",
      "6657     Admission Date:  [**2134-5-10**]              ...  \n",
      "68074    PATIENT/TEST INFORMATION:\\nIndication: Coronar...  \n",
      "68075    PATIENT/TEST INFORMATION:\\nIndication: history...  \n",
      "...                                                    ...  \n",
      "1300325  Nursing Progress Note:\\nNeuro:  Pt lethargic. ...  \n",
      "1300326  npn 23:00-07:00\\n\\ns/p CABGx5 [**2131-5-3**], ...  \n",
      "1300553  Respiratory Care\\nPt remains comfortable with ...  \n",
      "1300919  shift update:\\n\\nneuro:  dozing intermittenly....  \n",
      "1300920  Pt is po for CABG, extubated last night ~ [**2...  \n",
      "\n",
      "[89 rows x 11 columns]\n"
     ]
    }
   ],
   "source": [
    "print(filtered_df)"
   ],
   "metadata": {
    "collapsed": false,
    "ExecuteTime": {
     "end_time": "2023-11-10T16:25:40.129410Z",
     "start_time": "2023-11-10T16:25:40.116938Z"
    }
   },
   "id": "45fddf6d7efef95e"
  },
  {
   "cell_type": "code",
   "execution_count": 11,
   "outputs": [],
   "source": [
    "adm_df['ADMITTIME'] = pd.to_datetime(adm_df['ADMITTIME'])\n",
    "adm_df['DISCHTIME'] = pd.to_datetime(adm_df['DISCHTIME'])\n",
    "adm_df['DEATHTIME'] = pd.to_datetime(adm_df['DEATHTIME'])"
   ],
   "metadata": {
    "collapsed": false,
    "ExecuteTime": {
     "end_time": "2023-11-10T16:25:40.824856Z",
     "start_time": "2023-11-10T16:25:40.796741Z"
    }
   },
   "id": "1287b25b87e0add4"
  },
  {
   "cell_type": "code",
   "execution_count": 12,
   "outputs": [],
   "source": [
    "adm_df.sort_values(by=['SUBJECT_ID', 'ADMITTIME'], inplace=True)\n",
    "adm_df['time_diff'] = adm_df.groupby('SUBJECT_ID')['ADMITTIME'].diff()\n",
    "result_df = adm_df[(adm_df['time_diff'] < pd.Timedelta(days=30)) & (adm_df['time_diff'] >= pd.Timedelta(days=0))]\n",
    "selected_subjects = result_df['SUBJECT_ID'].unique()\n"
   ],
   "metadata": {
    "collapsed": false,
    "ExecuteTime": {
     "end_time": "2023-11-10T16:25:41.759924Z",
     "start_time": "2023-11-10T16:25:41.724248Z"
    }
   },
   "id": "c1b61083ff12e4af"
  },
  {
   "cell_type": "code",
   "execution_count": 13,
   "outputs": [
    {
     "data": {
      "text/plain": "     ROW_ID  SUBJECT_ID  HADM_ID           ADMITTIME           DISCHTIME  \\\n16       37          36   122659 2131-05-12 19:49:00 2131-05-25 13:30:00   \n72       70          68   108329 2174-01-04 22:21:00 2174-01-19 11:30:00   \n109     107         103   133550 2144-08-30 23:09:00 2144-09-01 14:28:00   \n112     110         105   128744 2189-02-21 01:45:00 2189-02-25 10:05:00   \n121     119         109   108375 2140-02-02 02:13:00 2140-02-02 16:25:00   \n127     125         109   147469 2141-06-11 10:17:00 2141-06-17 16:29:00   \n171     127         109   139061 2141-09-11 10:12:00 2141-09-14 20:00:00   \n172     128         109   172335 2141-09-18 10:32:00 2141-09-24 13:53:00   \n173     129         109   126055 2141-10-13 23:10:00 2141-11-03 18:45:00   \n175     131         109   161950 2141-11-24 16:11:00 2141-12-01 19:00:00   \n\n              DEATHTIME ADMISSION_TYPE    ADMISSION_LOCATION  \\\n16                  NaT      EMERGENCY  EMERGENCY ROOM ADMIT   \n72                  NaT      EMERGENCY  EMERGENCY ROOM ADMIT   \n109 2144-09-01 14:28:00      EMERGENCY  EMERGENCY ROOM ADMIT   \n112                 NaT      EMERGENCY  EMERGENCY ROOM ADMIT   \n121                 NaT      EMERGENCY  EMERGENCY ROOM ADMIT   \n127                 NaT      EMERGENCY  EMERGENCY ROOM ADMIT   \n171                 NaT      EMERGENCY  EMERGENCY ROOM ADMIT   \n172                 NaT      EMERGENCY  EMERGENCY ROOM ADMIT   \n173                 NaT      EMERGENCY  EMERGENCY ROOM ADMIT   \n175                 NaT      EMERGENCY  EMERGENCY ROOM ADMIT   \n\n           DISCHARGE_LOCATION INSURANCE LANGUAGE           RELIGION  \\\n16   REHAB/DISTINCT PART HOSP  Medicare     ENGL      NOT SPECIFIED   \n72                        SNF  Medicare      NaN  PROTESTANT QUAKER   \n109              DEAD/EXPIRED   Private      NaN           CATHOLIC   \n112          HOME HEALTH CARE  Medicare      NaN  PROTESTANT QUAKER   \n121                      HOME  Medicaid     ENGL      NOT SPECIFIED   \n127          HOME HEALTH CARE  Medicaid     ENGL      NOT SPECIFIED   \n171          HOME HEALTH CARE  Medicaid     ENGL      NOT SPECIFIED   \n172          HOME HEALTH CARE  Medicaid     ENGL      NOT SPECIFIED   \n173                      HOME  Medicaid     ENGL      NOT SPECIFIED   \n175                      HOME  Medicaid     ENGL      NOT SPECIFIED   \n\n    MARITAL_STATUS               ETHNICITY            EDREGTIME  \\\n16         MARRIED                   WHITE  2131-05-12 17:26:00   \n72          SINGLE  BLACK/AFRICAN AMERICAN  2174-01-04 17:40:00   \n109        MARRIED   UNKNOWN/NOT SPECIFIED  2144-08-30 17:12:00   \n112         SINGLE  BLACK/AFRICAN AMERICAN  2189-02-20 21:09:00   \n121         SINGLE  BLACK/AFRICAN AMERICAN  2140-02-01 22:03:00   \n127         SINGLE  BLACK/AFRICAN AMERICAN  2141-06-11 07:02:00   \n171         SINGLE  BLACK/AFRICAN AMERICAN  2141-09-11 06:47:00   \n172         SINGLE  BLACK/AFRICAN AMERICAN  2141-09-18 07:06:00   \n173         SINGLE  BLACK/AFRICAN AMERICAN  2141-10-13 18:14:00   \n175         SINGLE  BLACK/AFRICAN AMERICAN  2141-11-24 09:59:00   \n\n               EDOUTTIME                       DIAGNOSIS  \\\n16   2131-05-12 22:17:00  CHEST PAIN/SHORTNESS OF BREATH   \n72   2174-01-05 03:00:00                        WEAKNESS   \n109  2144-08-31 00:39:00         SUBARACHNOID HEMORRHAGE   \n112  2189-02-21 03:10:00                           FEVER   \n121  2140-02-02 03:00:00            HYPERTENSIVE URGENCY   \n127  2141-06-11 11:50:00          HYPERTENSIVE EMERGENCY   \n171  2141-09-11 10:59:00                    HYPERTENSION   \n172  2141-09-18 11:25:00                        LEG PAIN   \n173  2141-10-14 00:16:00                  ABDOMINAL PAIN   \n175  2141-11-24 17:38:00                  ABDOMINAL PAIN   \n\n     HOSPITAL_EXPIRE_FLAG  HAS_CHARTEVENTS_DATA        time_diff  \n16                      0                     1 12 days 12:34:00  \n72                      0                     1 20 days 06:05:00  \n109                     1                     1 18 days 05:32:00  \n112                     0                     1 23 days 08:48:00  \n121                     0                     1 13 days 12:48:00  \n127                     0                     1 17 days 19:30:00  \n171                     0                     1  5 days 14:08:00  \n172                     0                     1  7 days 00:20:00  \n173                     0                     1 25 days 12:38:00  \n175                     0                     1  6 days 02:11:00  ",
      "text/html": "<div>\n<style scoped>\n    .dataframe tbody tr th:only-of-type {\n        vertical-align: middle;\n    }\n\n    .dataframe tbody tr th {\n        vertical-align: top;\n    }\n\n    .dataframe thead th {\n        text-align: right;\n    }\n</style>\n<table border=\"1\" class=\"dataframe\">\n  <thead>\n    <tr style=\"text-align: right;\">\n      <th></th>\n      <th>ROW_ID</th>\n      <th>SUBJECT_ID</th>\n      <th>HADM_ID</th>\n      <th>ADMITTIME</th>\n      <th>DISCHTIME</th>\n      <th>DEATHTIME</th>\n      <th>ADMISSION_TYPE</th>\n      <th>ADMISSION_LOCATION</th>\n      <th>DISCHARGE_LOCATION</th>\n      <th>INSURANCE</th>\n      <th>LANGUAGE</th>\n      <th>RELIGION</th>\n      <th>MARITAL_STATUS</th>\n      <th>ETHNICITY</th>\n      <th>EDREGTIME</th>\n      <th>EDOUTTIME</th>\n      <th>DIAGNOSIS</th>\n      <th>HOSPITAL_EXPIRE_FLAG</th>\n      <th>HAS_CHARTEVENTS_DATA</th>\n      <th>time_diff</th>\n    </tr>\n  </thead>\n  <tbody>\n    <tr>\n      <th>16</th>\n      <td>37</td>\n      <td>36</td>\n      <td>122659</td>\n      <td>2131-05-12 19:49:00</td>\n      <td>2131-05-25 13:30:00</td>\n      <td>NaT</td>\n      <td>EMERGENCY</td>\n      <td>EMERGENCY ROOM ADMIT</td>\n      <td>REHAB/DISTINCT PART HOSP</td>\n      <td>Medicare</td>\n      <td>ENGL</td>\n      <td>NOT SPECIFIED</td>\n      <td>MARRIED</td>\n      <td>WHITE</td>\n      <td>2131-05-12 17:26:00</td>\n      <td>2131-05-12 22:17:00</td>\n      <td>CHEST PAIN/SHORTNESS OF BREATH</td>\n      <td>0</td>\n      <td>1</td>\n      <td>12 days 12:34:00</td>\n    </tr>\n    <tr>\n      <th>72</th>\n      <td>70</td>\n      <td>68</td>\n      <td>108329</td>\n      <td>2174-01-04 22:21:00</td>\n      <td>2174-01-19 11:30:00</td>\n      <td>NaT</td>\n      <td>EMERGENCY</td>\n      <td>EMERGENCY ROOM ADMIT</td>\n      <td>SNF</td>\n      <td>Medicare</td>\n      <td>NaN</td>\n      <td>PROTESTANT QUAKER</td>\n      <td>SINGLE</td>\n      <td>BLACK/AFRICAN AMERICAN</td>\n      <td>2174-01-04 17:40:00</td>\n      <td>2174-01-05 03:00:00</td>\n      <td>WEAKNESS</td>\n      <td>0</td>\n      <td>1</td>\n      <td>20 days 06:05:00</td>\n    </tr>\n    <tr>\n      <th>109</th>\n      <td>107</td>\n      <td>103</td>\n      <td>133550</td>\n      <td>2144-08-30 23:09:00</td>\n      <td>2144-09-01 14:28:00</td>\n      <td>2144-09-01 14:28:00</td>\n      <td>EMERGENCY</td>\n      <td>EMERGENCY ROOM ADMIT</td>\n      <td>DEAD/EXPIRED</td>\n      <td>Private</td>\n      <td>NaN</td>\n      <td>CATHOLIC</td>\n      <td>MARRIED</td>\n      <td>UNKNOWN/NOT SPECIFIED</td>\n      <td>2144-08-30 17:12:00</td>\n      <td>2144-08-31 00:39:00</td>\n      <td>SUBARACHNOID HEMORRHAGE</td>\n      <td>1</td>\n      <td>1</td>\n      <td>18 days 05:32:00</td>\n    </tr>\n    <tr>\n      <th>112</th>\n      <td>110</td>\n      <td>105</td>\n      <td>128744</td>\n      <td>2189-02-21 01:45:00</td>\n      <td>2189-02-25 10:05:00</td>\n      <td>NaT</td>\n      <td>EMERGENCY</td>\n      <td>EMERGENCY ROOM ADMIT</td>\n      <td>HOME HEALTH CARE</td>\n      <td>Medicare</td>\n      <td>NaN</td>\n      <td>PROTESTANT QUAKER</td>\n      <td>SINGLE</td>\n      <td>BLACK/AFRICAN AMERICAN</td>\n      <td>2189-02-20 21:09:00</td>\n      <td>2189-02-21 03:10:00</td>\n      <td>FEVER</td>\n      <td>0</td>\n      <td>1</td>\n      <td>23 days 08:48:00</td>\n    </tr>\n    <tr>\n      <th>121</th>\n      <td>119</td>\n      <td>109</td>\n      <td>108375</td>\n      <td>2140-02-02 02:13:00</td>\n      <td>2140-02-02 16:25:00</td>\n      <td>NaT</td>\n      <td>EMERGENCY</td>\n      <td>EMERGENCY ROOM ADMIT</td>\n      <td>HOME</td>\n      <td>Medicaid</td>\n      <td>ENGL</td>\n      <td>NOT SPECIFIED</td>\n      <td>SINGLE</td>\n      <td>BLACK/AFRICAN AMERICAN</td>\n      <td>2140-02-01 22:03:00</td>\n      <td>2140-02-02 03:00:00</td>\n      <td>HYPERTENSIVE URGENCY</td>\n      <td>0</td>\n      <td>1</td>\n      <td>13 days 12:48:00</td>\n    </tr>\n    <tr>\n      <th>127</th>\n      <td>125</td>\n      <td>109</td>\n      <td>147469</td>\n      <td>2141-06-11 10:17:00</td>\n      <td>2141-06-17 16:29:00</td>\n      <td>NaT</td>\n      <td>EMERGENCY</td>\n      <td>EMERGENCY ROOM ADMIT</td>\n      <td>HOME HEALTH CARE</td>\n      <td>Medicaid</td>\n      <td>ENGL</td>\n      <td>NOT SPECIFIED</td>\n      <td>SINGLE</td>\n      <td>BLACK/AFRICAN AMERICAN</td>\n      <td>2141-06-11 07:02:00</td>\n      <td>2141-06-11 11:50:00</td>\n      <td>HYPERTENSIVE EMERGENCY</td>\n      <td>0</td>\n      <td>1</td>\n      <td>17 days 19:30:00</td>\n    </tr>\n    <tr>\n      <th>171</th>\n      <td>127</td>\n      <td>109</td>\n      <td>139061</td>\n      <td>2141-09-11 10:12:00</td>\n      <td>2141-09-14 20:00:00</td>\n      <td>NaT</td>\n      <td>EMERGENCY</td>\n      <td>EMERGENCY ROOM ADMIT</td>\n      <td>HOME HEALTH CARE</td>\n      <td>Medicaid</td>\n      <td>ENGL</td>\n      <td>NOT SPECIFIED</td>\n      <td>SINGLE</td>\n      <td>BLACK/AFRICAN AMERICAN</td>\n      <td>2141-09-11 06:47:00</td>\n      <td>2141-09-11 10:59:00</td>\n      <td>HYPERTENSION</td>\n      <td>0</td>\n      <td>1</td>\n      <td>5 days 14:08:00</td>\n    </tr>\n    <tr>\n      <th>172</th>\n      <td>128</td>\n      <td>109</td>\n      <td>172335</td>\n      <td>2141-09-18 10:32:00</td>\n      <td>2141-09-24 13:53:00</td>\n      <td>NaT</td>\n      <td>EMERGENCY</td>\n      <td>EMERGENCY ROOM ADMIT</td>\n      <td>HOME HEALTH CARE</td>\n      <td>Medicaid</td>\n      <td>ENGL</td>\n      <td>NOT SPECIFIED</td>\n      <td>SINGLE</td>\n      <td>BLACK/AFRICAN AMERICAN</td>\n      <td>2141-09-18 07:06:00</td>\n      <td>2141-09-18 11:25:00</td>\n      <td>LEG PAIN</td>\n      <td>0</td>\n      <td>1</td>\n      <td>7 days 00:20:00</td>\n    </tr>\n    <tr>\n      <th>173</th>\n      <td>129</td>\n      <td>109</td>\n      <td>126055</td>\n      <td>2141-10-13 23:10:00</td>\n      <td>2141-11-03 18:45:00</td>\n      <td>NaT</td>\n      <td>EMERGENCY</td>\n      <td>EMERGENCY ROOM ADMIT</td>\n      <td>HOME</td>\n      <td>Medicaid</td>\n      <td>ENGL</td>\n      <td>NOT SPECIFIED</td>\n      <td>SINGLE</td>\n      <td>BLACK/AFRICAN AMERICAN</td>\n      <td>2141-10-13 18:14:00</td>\n      <td>2141-10-14 00:16:00</td>\n      <td>ABDOMINAL PAIN</td>\n      <td>0</td>\n      <td>1</td>\n      <td>25 days 12:38:00</td>\n    </tr>\n    <tr>\n      <th>175</th>\n      <td>131</td>\n      <td>109</td>\n      <td>161950</td>\n      <td>2141-11-24 16:11:00</td>\n      <td>2141-12-01 19:00:00</td>\n      <td>NaT</td>\n      <td>EMERGENCY</td>\n      <td>EMERGENCY ROOM ADMIT</td>\n      <td>HOME</td>\n      <td>Medicaid</td>\n      <td>ENGL</td>\n      <td>NOT SPECIFIED</td>\n      <td>SINGLE</td>\n      <td>BLACK/AFRICAN AMERICAN</td>\n      <td>2141-11-24 09:59:00</td>\n      <td>2141-11-24 17:38:00</td>\n      <td>ABDOMINAL PAIN</td>\n      <td>0</td>\n      <td>1</td>\n      <td>6 days 02:11:00</td>\n    </tr>\n  </tbody>\n</table>\n</div>"
     },
     "execution_count": 13,
     "metadata": {},
     "output_type": "execute_result"
    }
   ],
   "source": [
    "result_df.head(10)"
   ],
   "metadata": {
    "collapsed": false,
    "ExecuteTime": {
     "end_time": "2023-11-10T16:25:45.338030Z",
     "start_time": "2023-11-10T16:25:45.327820Z"
    }
   },
   "id": "d8fbce2e6c509bf"
  },
  {
   "cell_type": "code",
   "execution_count": 14,
   "outputs": [
    {
     "data": {
      "text/plain": "       ROW_ID  SUBJECT_ID  HADM_ID           ADMITTIME           DISCHTIME  \\\n16         37          36   122659 2131-05-12 19:49:00 2131-05-25 13:30:00   \n72         70          68   108329 2174-01-04 22:21:00 2174-01-19 11:30:00   \n109       107         103   133550 2144-08-30 23:09:00 2144-09-01 14:28:00   \n112       110         105   128744 2189-02-21 01:45:00 2189-02-25 10:05:00   \n121       119         109   108375 2140-02-02 02:13:00 2140-02-02 16:25:00   \n...       ...         ...      ...                 ...                 ...   \n58278   58839       99538   128902 2180-03-12 16:01:00 2180-03-16 14:23:00   \n58437   58870       99647   109725 2147-12-16 17:22:00 2147-12-28 14:30:00   \n58763   58905       99781   147562 2133-08-01 19:20:00 2133-08-06 16:27:00   \n58779   58921       99822   163117 2197-06-16 03:01:00 2197-06-25 17:00:00   \n58780   58922       99822   195871 2197-07-03 02:24:00 2197-07-08 13:15:00   \n\n                DEATHTIME ADMISSION_TYPE         ADMISSION_LOCATION  \\\n16                    NaT      EMERGENCY       EMERGENCY ROOM ADMIT   \n72                    NaT      EMERGENCY       EMERGENCY ROOM ADMIT   \n109   2144-09-01 14:28:00      EMERGENCY       EMERGENCY ROOM ADMIT   \n112                   NaT      EMERGENCY       EMERGENCY ROOM ADMIT   \n121                   NaT      EMERGENCY       EMERGENCY ROOM ADMIT   \n...                   ...            ...                        ...   \n58278                 NaT      EMERGENCY       EMERGENCY ROOM ADMIT   \n58437                 NaT      EMERGENCY       EMERGENCY ROOM ADMIT   \n58763                 NaT      EMERGENCY  CLINIC REFERRAL/PREMATURE   \n58779                 NaT      EMERGENCY       EMERGENCY ROOM ADMIT   \n58780 2197-07-08 13:15:00      EMERGENCY       EMERGENCY ROOM ADMIT   \n\n             DISCHARGE_LOCATION INSURANCE LANGUAGE           RELIGION  \\\n16     REHAB/DISTINCT PART HOSP  Medicare     ENGL      NOT SPECIFIED   \n72                          SNF  Medicare      NaN  PROTESTANT QUAKER   \n109                DEAD/EXPIRED   Private      NaN           CATHOLIC   \n112            HOME HEALTH CARE  Medicare      NaN  PROTESTANT QUAKER   \n121                        HOME  Medicaid     ENGL      NOT SPECIFIED   \n...                         ...       ...      ...                ...   \n58278                       SNF  Medicare     ENGL      NOT SPECIFIED   \n58437   LONG TERM CARE HOSPITAL   Private     ENGL           CATHOLIC   \n58763  REHAB/DISTINCT PART HOSP  Medicare     ENGL      NOT SPECIFIED   \n58779                      HOME   Private     ENGL           CATHOLIC   \n58780              DEAD/EXPIRED   Private     ENGL           CATHOLIC   \n\n          MARITAL_STATUS                  ETHNICITY            EDREGTIME  \\\n16               MARRIED                      WHITE  2131-05-12 17:26:00   \n72                SINGLE     BLACK/AFRICAN AMERICAN  2174-01-04 17:40:00   \n109              MARRIED      UNKNOWN/NOT SPECIFIED  2144-08-30 17:12:00   \n112               SINGLE     BLACK/AFRICAN AMERICAN  2189-02-20 21:09:00   \n121               SINGLE     BLACK/AFRICAN AMERICAN  2140-02-01 22:03:00   \n...                  ...                        ...                  ...   \n58278  UNKNOWN (DEFAULT)                      WHITE  2180-03-12 10:13:00   \n58437            MARRIED  HISPANIC/LATINO - MEXICAN  2147-12-16 15:19:00   \n58763             SINGLE                      WHITE  2133-08-01 15:55:00   \n58779            MARRIED                      WHITE  2197-06-15 23:33:00   \n58780            MARRIED                      WHITE  2197-07-02 22:43:00   \n\n                 EDOUTTIME                       DIAGNOSIS  \\\n16     2131-05-12 22:17:00  CHEST PAIN/SHORTNESS OF BREATH   \n72     2174-01-05 03:00:00                        WEAKNESS   \n109    2144-08-31 00:39:00         SUBARACHNOID HEMORRHAGE   \n112    2189-02-21 03:10:00                           FEVER   \n121    2140-02-02 03:00:00            HYPERTENSIVE URGENCY   \n...                    ...                             ...   \n58278  2180-03-12 16:44:00                         DYSPNEA   \n58437  2147-12-16 18:37:00                         DYSPNEA   \n58763  2133-08-01 20:38:00                       PNEUMONIA   \n58779  2197-06-16 05:14:00                    HYPONATREMIA   \n58780  2197-07-03 03:00:00                        DIARRHEA   \n\n       HOSPITAL_EXPIRE_FLAG  HAS_CHARTEVENTS_DATA        time_diff  \n16                        0                     1 12 days 12:34:00  \n72                        0                     1 20 days 06:05:00  \n109                       1                     1 18 days 05:32:00  \n112                       0                     1 23 days 08:48:00  \n121                       0                     1 13 days 12:48:00  \n...                     ...                   ...              ...  \n58278                     0                     1 27 days 22:15:00  \n58437                     0                     1 22 days 03:05:00  \n58763                     0                     1  9 days 02:09:00  \n58779                     0                     1 16 days 14:40:00  \n58780                     1                     1 16 days 23:23:00  \n\n[2478 rows x 20 columns]",
      "text/html": "<div>\n<style scoped>\n    .dataframe tbody tr th:only-of-type {\n        vertical-align: middle;\n    }\n\n    .dataframe tbody tr th {\n        vertical-align: top;\n    }\n\n    .dataframe thead th {\n        text-align: right;\n    }\n</style>\n<table border=\"1\" class=\"dataframe\">\n  <thead>\n    <tr style=\"text-align: right;\">\n      <th></th>\n      <th>ROW_ID</th>\n      <th>SUBJECT_ID</th>\n      <th>HADM_ID</th>\n      <th>ADMITTIME</th>\n      <th>DISCHTIME</th>\n      <th>DEATHTIME</th>\n      <th>ADMISSION_TYPE</th>\n      <th>ADMISSION_LOCATION</th>\n      <th>DISCHARGE_LOCATION</th>\n      <th>INSURANCE</th>\n      <th>LANGUAGE</th>\n      <th>RELIGION</th>\n      <th>MARITAL_STATUS</th>\n      <th>ETHNICITY</th>\n      <th>EDREGTIME</th>\n      <th>EDOUTTIME</th>\n      <th>DIAGNOSIS</th>\n      <th>HOSPITAL_EXPIRE_FLAG</th>\n      <th>HAS_CHARTEVENTS_DATA</th>\n      <th>time_diff</th>\n    </tr>\n  </thead>\n  <tbody>\n    <tr>\n      <th>16</th>\n      <td>37</td>\n      <td>36</td>\n      <td>122659</td>\n      <td>2131-05-12 19:49:00</td>\n      <td>2131-05-25 13:30:00</td>\n      <td>NaT</td>\n      <td>EMERGENCY</td>\n      <td>EMERGENCY ROOM ADMIT</td>\n      <td>REHAB/DISTINCT PART HOSP</td>\n      <td>Medicare</td>\n      <td>ENGL</td>\n      <td>NOT SPECIFIED</td>\n      <td>MARRIED</td>\n      <td>WHITE</td>\n      <td>2131-05-12 17:26:00</td>\n      <td>2131-05-12 22:17:00</td>\n      <td>CHEST PAIN/SHORTNESS OF BREATH</td>\n      <td>0</td>\n      <td>1</td>\n      <td>12 days 12:34:00</td>\n    </tr>\n    <tr>\n      <th>72</th>\n      <td>70</td>\n      <td>68</td>\n      <td>108329</td>\n      <td>2174-01-04 22:21:00</td>\n      <td>2174-01-19 11:30:00</td>\n      <td>NaT</td>\n      <td>EMERGENCY</td>\n      <td>EMERGENCY ROOM ADMIT</td>\n      <td>SNF</td>\n      <td>Medicare</td>\n      <td>NaN</td>\n      <td>PROTESTANT QUAKER</td>\n      <td>SINGLE</td>\n      <td>BLACK/AFRICAN AMERICAN</td>\n      <td>2174-01-04 17:40:00</td>\n      <td>2174-01-05 03:00:00</td>\n      <td>WEAKNESS</td>\n      <td>0</td>\n      <td>1</td>\n      <td>20 days 06:05:00</td>\n    </tr>\n    <tr>\n      <th>109</th>\n      <td>107</td>\n      <td>103</td>\n      <td>133550</td>\n      <td>2144-08-30 23:09:00</td>\n      <td>2144-09-01 14:28:00</td>\n      <td>2144-09-01 14:28:00</td>\n      <td>EMERGENCY</td>\n      <td>EMERGENCY ROOM ADMIT</td>\n      <td>DEAD/EXPIRED</td>\n      <td>Private</td>\n      <td>NaN</td>\n      <td>CATHOLIC</td>\n      <td>MARRIED</td>\n      <td>UNKNOWN/NOT SPECIFIED</td>\n      <td>2144-08-30 17:12:00</td>\n      <td>2144-08-31 00:39:00</td>\n      <td>SUBARACHNOID HEMORRHAGE</td>\n      <td>1</td>\n      <td>1</td>\n      <td>18 days 05:32:00</td>\n    </tr>\n    <tr>\n      <th>112</th>\n      <td>110</td>\n      <td>105</td>\n      <td>128744</td>\n      <td>2189-02-21 01:45:00</td>\n      <td>2189-02-25 10:05:00</td>\n      <td>NaT</td>\n      <td>EMERGENCY</td>\n      <td>EMERGENCY ROOM ADMIT</td>\n      <td>HOME HEALTH CARE</td>\n      <td>Medicare</td>\n      <td>NaN</td>\n      <td>PROTESTANT QUAKER</td>\n      <td>SINGLE</td>\n      <td>BLACK/AFRICAN AMERICAN</td>\n      <td>2189-02-20 21:09:00</td>\n      <td>2189-02-21 03:10:00</td>\n      <td>FEVER</td>\n      <td>0</td>\n      <td>1</td>\n      <td>23 days 08:48:00</td>\n    </tr>\n    <tr>\n      <th>121</th>\n      <td>119</td>\n      <td>109</td>\n      <td>108375</td>\n      <td>2140-02-02 02:13:00</td>\n      <td>2140-02-02 16:25:00</td>\n      <td>NaT</td>\n      <td>EMERGENCY</td>\n      <td>EMERGENCY ROOM ADMIT</td>\n      <td>HOME</td>\n      <td>Medicaid</td>\n      <td>ENGL</td>\n      <td>NOT SPECIFIED</td>\n      <td>SINGLE</td>\n      <td>BLACK/AFRICAN AMERICAN</td>\n      <td>2140-02-01 22:03:00</td>\n      <td>2140-02-02 03:00:00</td>\n      <td>HYPERTENSIVE URGENCY</td>\n      <td>0</td>\n      <td>1</td>\n      <td>13 days 12:48:00</td>\n    </tr>\n    <tr>\n      <th>...</th>\n      <td>...</td>\n      <td>...</td>\n      <td>...</td>\n      <td>...</td>\n      <td>...</td>\n      <td>...</td>\n      <td>...</td>\n      <td>...</td>\n      <td>...</td>\n      <td>...</td>\n      <td>...</td>\n      <td>...</td>\n      <td>...</td>\n      <td>...</td>\n      <td>...</td>\n      <td>...</td>\n      <td>...</td>\n      <td>...</td>\n      <td>...</td>\n      <td>...</td>\n    </tr>\n    <tr>\n      <th>58278</th>\n      <td>58839</td>\n      <td>99538</td>\n      <td>128902</td>\n      <td>2180-03-12 16:01:00</td>\n      <td>2180-03-16 14:23:00</td>\n      <td>NaT</td>\n      <td>EMERGENCY</td>\n      <td>EMERGENCY ROOM ADMIT</td>\n      <td>SNF</td>\n      <td>Medicare</td>\n      <td>ENGL</td>\n      <td>NOT SPECIFIED</td>\n      <td>UNKNOWN (DEFAULT)</td>\n      <td>WHITE</td>\n      <td>2180-03-12 10:13:00</td>\n      <td>2180-03-12 16:44:00</td>\n      <td>DYSPNEA</td>\n      <td>0</td>\n      <td>1</td>\n      <td>27 days 22:15:00</td>\n    </tr>\n    <tr>\n      <th>58437</th>\n      <td>58870</td>\n      <td>99647</td>\n      <td>109725</td>\n      <td>2147-12-16 17:22:00</td>\n      <td>2147-12-28 14:30:00</td>\n      <td>NaT</td>\n      <td>EMERGENCY</td>\n      <td>EMERGENCY ROOM ADMIT</td>\n      <td>LONG TERM CARE HOSPITAL</td>\n      <td>Private</td>\n      <td>ENGL</td>\n      <td>CATHOLIC</td>\n      <td>MARRIED</td>\n      <td>HISPANIC/LATINO - MEXICAN</td>\n      <td>2147-12-16 15:19:00</td>\n      <td>2147-12-16 18:37:00</td>\n      <td>DYSPNEA</td>\n      <td>0</td>\n      <td>1</td>\n      <td>22 days 03:05:00</td>\n    </tr>\n    <tr>\n      <th>58763</th>\n      <td>58905</td>\n      <td>99781</td>\n      <td>147562</td>\n      <td>2133-08-01 19:20:00</td>\n      <td>2133-08-06 16:27:00</td>\n      <td>NaT</td>\n      <td>EMERGENCY</td>\n      <td>CLINIC REFERRAL/PREMATURE</td>\n      <td>REHAB/DISTINCT PART HOSP</td>\n      <td>Medicare</td>\n      <td>ENGL</td>\n      <td>NOT SPECIFIED</td>\n      <td>SINGLE</td>\n      <td>WHITE</td>\n      <td>2133-08-01 15:55:00</td>\n      <td>2133-08-01 20:38:00</td>\n      <td>PNEUMONIA</td>\n      <td>0</td>\n      <td>1</td>\n      <td>9 days 02:09:00</td>\n    </tr>\n    <tr>\n      <th>58779</th>\n      <td>58921</td>\n      <td>99822</td>\n      <td>163117</td>\n      <td>2197-06-16 03:01:00</td>\n      <td>2197-06-25 17:00:00</td>\n      <td>NaT</td>\n      <td>EMERGENCY</td>\n      <td>EMERGENCY ROOM ADMIT</td>\n      <td>HOME</td>\n      <td>Private</td>\n      <td>ENGL</td>\n      <td>CATHOLIC</td>\n      <td>MARRIED</td>\n      <td>WHITE</td>\n      <td>2197-06-15 23:33:00</td>\n      <td>2197-06-16 05:14:00</td>\n      <td>HYPONATREMIA</td>\n      <td>0</td>\n      <td>1</td>\n      <td>16 days 14:40:00</td>\n    </tr>\n    <tr>\n      <th>58780</th>\n      <td>58922</td>\n      <td>99822</td>\n      <td>195871</td>\n      <td>2197-07-03 02:24:00</td>\n      <td>2197-07-08 13:15:00</td>\n      <td>2197-07-08 13:15:00</td>\n      <td>EMERGENCY</td>\n      <td>EMERGENCY ROOM ADMIT</td>\n      <td>DEAD/EXPIRED</td>\n      <td>Private</td>\n      <td>ENGL</td>\n      <td>CATHOLIC</td>\n      <td>MARRIED</td>\n      <td>WHITE</td>\n      <td>2197-07-02 22:43:00</td>\n      <td>2197-07-03 03:00:00</td>\n      <td>DIARRHEA</td>\n      <td>1</td>\n      <td>1</td>\n      <td>16 days 23:23:00</td>\n    </tr>\n  </tbody>\n</table>\n<p>2478 rows × 20 columns</p>\n</div>"
     },
     "execution_count": 14,
     "metadata": {},
     "output_type": "execute_result"
    }
   ],
   "source": [
    "\n",
    "result_df\n",
    "#selected_subjects"
   ],
   "metadata": {
    "collapsed": false,
    "ExecuteTime": {
     "end_time": "2023-11-10T16:25:46.904164Z",
     "start_time": "2023-11-10T16:25:46.898173Z"
    }
   },
   "id": "f69f473c891ea703"
  },
  {
   "cell_type": "code",
   "execution_count": 15,
   "outputs": [
    {
     "data": {
      "text/plain": "          ROW_ID  SUBJECT_ID   HADM_ID   CHARTDATE            CHARTTIME  \\\n10854       9138          68  170467.0  2174-01-03                  NaN   \n10855       9139          68  108329.0  2174-01-18                  NaN   \n55152      56004          68  108329.0  2174-01-19                  NaN   \n56394      56002          68  108329.0  2174-01-18                  NaN   \n67642      68074          68  170467.0  2173-12-17                  NaN   \n68147      68073          68  170467.0  2173-12-28                  NaN   \n137250    149865          68  108329.0  2174-01-07                  NaN   \n137251    149866          68  108329.0  2174-01-06                  NaN   \n137478    149867          68  170467.0  2174-01-04                  NaN   \n137479    149868          68  170467.0  2174-01-02                  NaN   \n137480    149869          68  170467.0  2173-12-15                  NaN   \n137481    149870          68  170467.0  2173-12-15                  NaN   \n138257    149761          68  108329.0  2174-01-08                  NaN   \n881125    896038          68  170467.0  2173-12-24  2173-12-24 16:40:00   \n881235    895045          68  170467.0  2173-12-17  2173-12-17 09:29:00   \n889526    897966          68  108329.0  2174-01-09  2174-01-09 20:05:00   \n1257882  1261189          68  108329.0  2174-01-10  2174-01-10 04:34:00   \n1257883  1261190          68  108329.0  2174-01-10  2174-01-10 16:12:00   \n1257884  1261191          68  108329.0  2174-01-10  2174-01-10 17:37:00   \n1258090  1261180          68  170467.0  2173-12-19  2173-12-19 04:03:00   \n1258821  1261175          68  170467.0  2173-12-16  2173-12-16 17:16:00   \n1258822  1261176          68  170467.0  2173-12-17  2173-12-17 04:32:00   \n1258929  1261203          68  108329.0  2174-01-14  2174-01-14 05:55:00   \n1258930  1261204          68  108329.0  2174-01-14  2174-01-14 16:43:00   \n1259066  1261177          68  170467.0  2173-12-17  2173-12-17 17:09:00   \n1259067  1261178          68  170467.0  2173-12-18  2173-12-18 04:54:00   \n1259129  1261187          68  108329.0  2174-01-09  2174-01-09 15:59:00   \n1259130  1261188          68  108329.0  2174-01-09  2174-01-09 19:12:00   \n1259578  1261173          68  170467.0  2173-12-16  2173-12-16 04:45:00   \n1259579  1261174          68  170467.0  2173-12-16  2173-12-16 16:51:00   \n1259970  1261200          68  108329.0  2174-01-13  2174-01-13 05:12:00   \n1260121  1261184          68  108329.0  2174-01-08  2174-01-08 16:51:00   \n1260122  1261185          68  108329.0  2174-01-08  2174-01-08 18:38:00   \n1260123  1261186          68  108329.0  2174-01-09  2174-01-09 04:58:00   \n1260177  1261195          68  108329.0  2174-01-12  2174-01-12 05:33:00   \n1260178  1261196          68  108329.0  2174-01-12  2174-01-12 16:40:00   \n1260179  1261197          68  108329.0  2174-01-12  2174-01-12 17:34:00   \n1260180  1261198          68  108329.0  2174-01-12  2174-01-12 18:09:00   \n1260181  1261199          68  108329.0  2174-01-12  2174-01-12 19:09:00   \n1260186  1261201          68  108329.0  2174-01-13  2174-01-13 17:15:00   \n1260187  1261202          68  108329.0  2174-01-13  2174-01-13 17:44:00   \n1260967  1261192          68  108329.0  2174-01-11  2174-01-11 05:50:00   \n1260968  1261193          68  108329.0  2174-01-11  2174-01-11 16:19:00   \n1260969  1261194          68  108329.0  2174-01-11  2174-01-11 18:34:00   \n1261169  1261181          68  170467.0  2173-12-31  2173-12-31 03:44:00   \n1261457  1261182          68  170467.0  2173-12-31  2173-12-31 15:37:00   \n1261458  1261183          68  108329.0  2174-01-08  2174-01-08 14:56:00   \n1261966  1261179          68  170467.0  2173-12-18  2173-12-18 16:40:00   \n\n                   STORETIME           CATEGORY  \\\n10854                    NaN  Discharge summary   \n10855                    NaN  Discharge summary   \n55152                    NaN  Discharge summary   \n56394                    NaN  Discharge summary   \n67642                    NaN               Echo   \n68147                    NaN               Echo   \n137250                   NaN                ECG   \n137251                   NaN                ECG   \n137478                   NaN                ECG   \n137479                   NaN                ECG   \n137480                   NaN                ECG   \n137481                   NaN                ECG   \n138257                   NaN                ECG   \n881125                   NaN          Radiology   \n881235                   NaN          Radiology   \n889526                   NaN          Radiology   \n1257882  2174-01-10 04:53:00      Nursing/other   \n1257883  2174-01-10 16:44:00      Nursing/other   \n1257884  2174-01-10 17:40:00      Nursing/other   \n1258090  2173-12-19 04:13:00      Nursing/other   \n1258821  2173-12-16 17:18:00      Nursing/other   \n1258822  2173-12-17 04:44:00      Nursing/other   \n1258929  2174-01-14 06:11:00      Nursing/other   \n1258930  2174-01-14 16:51:00      Nursing/other   \n1259066  2173-12-17 17:26:00      Nursing/other   \n1259067  2173-12-18 05:03:00      Nursing/other   \n1259129  2174-01-09 17:08:00      Nursing/other   \n1259130  2174-01-09 19:21:00      Nursing/other   \n1259578  2173-12-16 05:09:00      Nursing/other   \n1259579  2173-12-16 17:08:00      Nursing/other   \n1259970  2174-01-13 05:23:00      Nursing/other   \n1260121  2174-01-08 17:43:00      Nursing/other   \n1260122  2174-01-08 18:41:00      Nursing/other   \n1260123  2174-01-09 05:07:00      Nursing/other   \n1260177  2174-01-12 06:07:00      Nursing/other   \n1260178  2174-01-12 17:07:00      Nursing/other   \n1260179  2174-01-12 17:36:00      Nursing/other   \n1260180  2174-01-12 18:10:00      Nursing/other   \n1260181  2174-01-12 19:10:00      Nursing/other   \n1260186  2174-01-13 17:27:00      Nursing/other   \n1260187  2174-01-13 17:47:00      Nursing/other   \n1260967  2174-01-11 06:45:00      Nursing/other   \n1260968  2174-01-11 16:38:00      Nursing/other   \n1260969  2174-01-11 18:37:00      Nursing/other   \n1261169  2173-12-31 04:17:00      Nursing/other   \n1261457  2173-12-31 15:44:00      Nursing/other   \n1261458  2174-01-08 14:58:00      Nursing/other   \n1261966  2173-12-18 16:58:00      Nursing/other   \n\n                                DESCRIPTION     CGID  ISERROR  \\\n10854                                Report      NaN      NaN   \n10855                                Report      NaN      NaN   \n55152                              Addendum      NaN      NaN   \n56394                              Addendum      NaN      NaN   \n67642                                Report      NaN      NaN   \n68147                                Report      NaN      NaN   \n137250                               Report      NaN      NaN   \n137251                               Report      NaN      NaN   \n137478                               Report      NaN      NaN   \n137479                               Report      NaN      NaN   \n137480                               Report      NaN      NaN   \n137481                               Report      NaN      NaN   \n138257                               Report      NaN      NaN   \n881125               CT PELVIS W/O CONTRAST      NaN      NaN   \n881235   FEE ADJUSTED IN SPECIFIC SITUATION      NaN      NaN   \n889526               BY DIFFERENT PHYSICIAN      NaN      NaN   \n1257882                              Report  19295.0      NaN   \n1257883                              Report  15666.0      NaN   \n1257884                              Report  15666.0      NaN   \n1258090                              Report  17770.0      NaN   \n1258821                              Report  20803.0      NaN   \n1258822                              Report  14204.0      NaN   \n1258929                              Report  17693.0      NaN   \n1258930                              Report  20054.0      NaN   \n1259066                              Report  20030.0      NaN   \n1259067                              Report  14204.0      NaN   \n1259129                              Report  14375.0      NaN   \n1259130                              Report  15666.0      NaN   \n1259578                              Report  20823.0      NaN   \n1259579                              Report  14206.0      NaN   \n1259970                              Report  19295.0      NaN   \n1260121                              Report  14375.0      NaN   \n1260122                              Report  20848.0      NaN   \n1260123                              Report  19295.0      NaN   \n1260177                              Report  19783.0      NaN   \n1260178                              Report  20848.0      NaN   \n1260179                              Report  20803.0      NaN   \n1260180                              Report  20848.0      NaN   \n1260181                              Report  20848.0      NaN   \n1260186                              Report  15004.0      NaN   \n1260187                              Report  21319.0      NaN   \n1260967                              Report  14375.0      NaN   \n1260968                              Report  20848.0      NaN   \n1260969                              Report  20803.0      NaN   \n1261169                              Report  20948.0      NaN   \n1261457                              Report  17770.0      NaN   \n1261458                              Report  17738.0      NaN   \n1261966                              Report  20823.0      NaN   \n\n                                                      TEXT  \n10854    Admission Date:  [**2173-12-15**]             ...  \n10855    Admission Date:  [**2174-1-4**]              D...  \n55152    Name:  [**Known lastname 5477**],[**Known firs...  \n56394    Name:  [**Known lastname 5477**],[**Known firs...  \n67642    PATIENT/TEST INFORMATION:\\nIndication: Dilated...  \n68147    PATIENT/TEST INFORMATION:\\nIndication: Pericar...  \n137250   Sinus tachycardia. Left atrial abnormality. Lo...  \n137251   Sinus tachycardia\\nRightward axis\\nLow limb le...  \n137478   Sinus rhythm with baseline artifact. Low QRS v...  \n137479   Probable sinus tachycardia. Low voltage. Diffu...  \n137480   Sinus tachycardia. Compared to the previous tr...  \n137481   Sinus rhythm. Delayed anterior precordial R wa...  \n138257   Sinus tachycardia. Low voltage in the limb lea...  \n881125   [**2173-12-24**] 4:40 PM\\n CT ABDOMEN W/O CONT...  \n881235   [**2173-12-17**] 9:29 AM\\n PICC LINE PLACMENT ...  \n889526   [**2174-1-9**] 8:05 PM\\n CHEST PORT. LINE PLAC...  \n1257882  npn 1900-0700\\n\\nCVVH initiated last evening a...  \n1257883  NURSING NOTE 0700HRS - 1600HRS\\n\\n\\nADMIT WITH...  \n1257884  ADDENDUM...TEAM HAVE CLARIFIED WITH RENAL THAT...  \n1258090  NPN 7p-7a:\\n     Nuero: pt denies pain. OOB to...  \n1258821  Resp Care\\n\\nSputum induction obtained for PCP...  \n1258822  NPN 7p-7a\\nNeuro: Pt A&O.  Able to ambulate to...  \n1258929  npn 7p-7a\\n**please see carevue and fhp for ad...  \n1258930  MICU WEST Nursing Progress Note (1130-1900)\\n\\...  \n1259066  MICU/SICU NPN HD #2\\nEvents: PICC line placed ...  \n1259067  NPN 7p-7a\\nNeuro: Alert and oriented-follows c...  \n1259129  Nursing note:0700-1900\\n\\n41 yo Female with en...  \n1259130  ADDENDUM....RECEIVED FURTHER 3 UNITS OF FFP TH...  \n1259578  Micu nsg admission note\\n41yo female with AIDS...  \n1259579  NSG 0700-1900\\nEvents: Attempted eating breakf...  \n1259970  npn 1900-0700\\n\\nneuro: Pt is axox3, follows c...  \n1260121  Admission Note:\\n\\nRFA:41 yo [**Hospital 352**...  \n1260122  focus; addendum to above note\\nACID/BASE- PATI...  \n1260123  npn [**6-24**] am\\n\\nPt transferred from the f...  \n1260177  MICU [**Name8 (MD) **] RN Note 1900-0700\\n\\nNe...  \n1260178  FOCUS; NURSING PROGRESS NOTE\\n41 YEAR OLD FEMA...  \n1260179  Resp Care\\n\\nPt being followed by respiratory ...  \n1260180  focus; addendum\\nCARDIAC- NA DOWN TO 129. DR [...  \n1260181  focus; addendum\\nDISPO- ABOVE NOTE IS INCORREC...  \n1260186  MICU npn 0700-1900\\nEVENTS: CRRT d/c at 11:00,...  \n1260187  Respiratory therapist\\nPatient awake and alert...  \n1260967  Nursing Note:1900-0730\\n\\nCode Status: DNR/DNI...  \n1260968  FOCUS; NURSING PROGRESS NOTE\\n41 YEAR OLD WITH...  \n1260969  Resp Care\\n\\nPt admitted from floors with hx a...  \n1261169  MICU Admission Note.\\n\\nPt. is 41 y.o. female ...  \n1261457  NPN 7A-7P:   PLEASE SEE TRANSFER NOTE FOR EVEN...  \n1261458  respiratory care\\npt was seen and treated with...  \n1261966  Micu nsg progress note\\nNeuro- Alert oriented ...  ",
      "text/html": "<div>\n<style scoped>\n    .dataframe tbody tr th:only-of-type {\n        vertical-align: middle;\n    }\n\n    .dataframe tbody tr th {\n        vertical-align: top;\n    }\n\n    .dataframe thead th {\n        text-align: right;\n    }\n</style>\n<table border=\"1\" class=\"dataframe\">\n  <thead>\n    <tr style=\"text-align: right;\">\n      <th></th>\n      <th>ROW_ID</th>\n      <th>SUBJECT_ID</th>\n      <th>HADM_ID</th>\n      <th>CHARTDATE</th>\n      <th>CHARTTIME</th>\n      <th>STORETIME</th>\n      <th>CATEGORY</th>\n      <th>DESCRIPTION</th>\n      <th>CGID</th>\n      <th>ISERROR</th>\n      <th>TEXT</th>\n    </tr>\n  </thead>\n  <tbody>\n    <tr>\n      <th>10854</th>\n      <td>9138</td>\n      <td>68</td>\n      <td>170467.0</td>\n      <td>2174-01-03</td>\n      <td>NaN</td>\n      <td>NaN</td>\n      <td>Discharge summary</td>\n      <td>Report</td>\n      <td>NaN</td>\n      <td>NaN</td>\n      <td>Admission Date:  [**2173-12-15**]             ...</td>\n    </tr>\n    <tr>\n      <th>10855</th>\n      <td>9139</td>\n      <td>68</td>\n      <td>108329.0</td>\n      <td>2174-01-18</td>\n      <td>NaN</td>\n      <td>NaN</td>\n      <td>Discharge summary</td>\n      <td>Report</td>\n      <td>NaN</td>\n      <td>NaN</td>\n      <td>Admission Date:  [**2174-1-4**]              D...</td>\n    </tr>\n    <tr>\n      <th>55152</th>\n      <td>56004</td>\n      <td>68</td>\n      <td>108329.0</td>\n      <td>2174-01-19</td>\n      <td>NaN</td>\n      <td>NaN</td>\n      <td>Discharge summary</td>\n      <td>Addendum</td>\n      <td>NaN</td>\n      <td>NaN</td>\n      <td>Name:  [**Known lastname 5477**],[**Known firs...</td>\n    </tr>\n    <tr>\n      <th>56394</th>\n      <td>56002</td>\n      <td>68</td>\n      <td>108329.0</td>\n      <td>2174-01-18</td>\n      <td>NaN</td>\n      <td>NaN</td>\n      <td>Discharge summary</td>\n      <td>Addendum</td>\n      <td>NaN</td>\n      <td>NaN</td>\n      <td>Name:  [**Known lastname 5477**],[**Known firs...</td>\n    </tr>\n    <tr>\n      <th>67642</th>\n      <td>68074</td>\n      <td>68</td>\n      <td>170467.0</td>\n      <td>2173-12-17</td>\n      <td>NaN</td>\n      <td>NaN</td>\n      <td>Echo</td>\n      <td>Report</td>\n      <td>NaN</td>\n      <td>NaN</td>\n      <td>PATIENT/TEST INFORMATION:\\nIndication: Dilated...</td>\n    </tr>\n    <tr>\n      <th>68147</th>\n      <td>68073</td>\n      <td>68</td>\n      <td>170467.0</td>\n      <td>2173-12-28</td>\n      <td>NaN</td>\n      <td>NaN</td>\n      <td>Echo</td>\n      <td>Report</td>\n      <td>NaN</td>\n      <td>NaN</td>\n      <td>PATIENT/TEST INFORMATION:\\nIndication: Pericar...</td>\n    </tr>\n    <tr>\n      <th>137250</th>\n      <td>149865</td>\n      <td>68</td>\n      <td>108329.0</td>\n      <td>2174-01-07</td>\n      <td>NaN</td>\n      <td>NaN</td>\n      <td>ECG</td>\n      <td>Report</td>\n      <td>NaN</td>\n      <td>NaN</td>\n      <td>Sinus tachycardia. Left atrial abnormality. Lo...</td>\n    </tr>\n    <tr>\n      <th>137251</th>\n      <td>149866</td>\n      <td>68</td>\n      <td>108329.0</td>\n      <td>2174-01-06</td>\n      <td>NaN</td>\n      <td>NaN</td>\n      <td>ECG</td>\n      <td>Report</td>\n      <td>NaN</td>\n      <td>NaN</td>\n      <td>Sinus tachycardia\\nRightward axis\\nLow limb le...</td>\n    </tr>\n    <tr>\n      <th>137478</th>\n      <td>149867</td>\n      <td>68</td>\n      <td>170467.0</td>\n      <td>2174-01-04</td>\n      <td>NaN</td>\n      <td>NaN</td>\n      <td>ECG</td>\n      <td>Report</td>\n      <td>NaN</td>\n      <td>NaN</td>\n      <td>Sinus rhythm with baseline artifact. Low QRS v...</td>\n    </tr>\n    <tr>\n      <th>137479</th>\n      <td>149868</td>\n      <td>68</td>\n      <td>170467.0</td>\n      <td>2174-01-02</td>\n      <td>NaN</td>\n      <td>NaN</td>\n      <td>ECG</td>\n      <td>Report</td>\n      <td>NaN</td>\n      <td>NaN</td>\n      <td>Probable sinus tachycardia. Low voltage. Diffu...</td>\n    </tr>\n    <tr>\n      <th>137480</th>\n      <td>149869</td>\n      <td>68</td>\n      <td>170467.0</td>\n      <td>2173-12-15</td>\n      <td>NaN</td>\n      <td>NaN</td>\n      <td>ECG</td>\n      <td>Report</td>\n      <td>NaN</td>\n      <td>NaN</td>\n      <td>Sinus tachycardia. Compared to the previous tr...</td>\n    </tr>\n    <tr>\n      <th>137481</th>\n      <td>149870</td>\n      <td>68</td>\n      <td>170467.0</td>\n      <td>2173-12-15</td>\n      <td>NaN</td>\n      <td>NaN</td>\n      <td>ECG</td>\n      <td>Report</td>\n      <td>NaN</td>\n      <td>NaN</td>\n      <td>Sinus rhythm. Delayed anterior precordial R wa...</td>\n    </tr>\n    <tr>\n      <th>138257</th>\n      <td>149761</td>\n      <td>68</td>\n      <td>108329.0</td>\n      <td>2174-01-08</td>\n      <td>NaN</td>\n      <td>NaN</td>\n      <td>ECG</td>\n      <td>Report</td>\n      <td>NaN</td>\n      <td>NaN</td>\n      <td>Sinus tachycardia. Low voltage in the limb lea...</td>\n    </tr>\n    <tr>\n      <th>881125</th>\n      <td>896038</td>\n      <td>68</td>\n      <td>170467.0</td>\n      <td>2173-12-24</td>\n      <td>2173-12-24 16:40:00</td>\n      <td>NaN</td>\n      <td>Radiology</td>\n      <td>CT PELVIS W/O CONTRAST</td>\n      <td>NaN</td>\n      <td>NaN</td>\n      <td>[**2173-12-24**] 4:40 PM\\n CT ABDOMEN W/O CONT...</td>\n    </tr>\n    <tr>\n      <th>881235</th>\n      <td>895045</td>\n      <td>68</td>\n      <td>170467.0</td>\n      <td>2173-12-17</td>\n      <td>2173-12-17 09:29:00</td>\n      <td>NaN</td>\n      <td>Radiology</td>\n      <td>FEE ADJUSTED IN SPECIFIC SITUATION</td>\n      <td>NaN</td>\n      <td>NaN</td>\n      <td>[**2173-12-17**] 9:29 AM\\n PICC LINE PLACMENT ...</td>\n    </tr>\n    <tr>\n      <th>889526</th>\n      <td>897966</td>\n      <td>68</td>\n      <td>108329.0</td>\n      <td>2174-01-09</td>\n      <td>2174-01-09 20:05:00</td>\n      <td>NaN</td>\n      <td>Radiology</td>\n      <td>BY DIFFERENT PHYSICIAN</td>\n      <td>NaN</td>\n      <td>NaN</td>\n      <td>[**2174-1-9**] 8:05 PM\\n CHEST PORT. LINE PLAC...</td>\n    </tr>\n    <tr>\n      <th>1257882</th>\n      <td>1261189</td>\n      <td>68</td>\n      <td>108329.0</td>\n      <td>2174-01-10</td>\n      <td>2174-01-10 04:34:00</td>\n      <td>2174-01-10 04:53:00</td>\n      <td>Nursing/other</td>\n      <td>Report</td>\n      <td>19295.0</td>\n      <td>NaN</td>\n      <td>npn 1900-0700\\n\\nCVVH initiated last evening a...</td>\n    </tr>\n    <tr>\n      <th>1257883</th>\n      <td>1261190</td>\n      <td>68</td>\n      <td>108329.0</td>\n      <td>2174-01-10</td>\n      <td>2174-01-10 16:12:00</td>\n      <td>2174-01-10 16:44:00</td>\n      <td>Nursing/other</td>\n      <td>Report</td>\n      <td>15666.0</td>\n      <td>NaN</td>\n      <td>NURSING NOTE 0700HRS - 1600HRS\\n\\n\\nADMIT WITH...</td>\n    </tr>\n    <tr>\n      <th>1257884</th>\n      <td>1261191</td>\n      <td>68</td>\n      <td>108329.0</td>\n      <td>2174-01-10</td>\n      <td>2174-01-10 17:37:00</td>\n      <td>2174-01-10 17:40:00</td>\n      <td>Nursing/other</td>\n      <td>Report</td>\n      <td>15666.0</td>\n      <td>NaN</td>\n      <td>ADDENDUM...TEAM HAVE CLARIFIED WITH RENAL THAT...</td>\n    </tr>\n    <tr>\n      <th>1258090</th>\n      <td>1261180</td>\n      <td>68</td>\n      <td>170467.0</td>\n      <td>2173-12-19</td>\n      <td>2173-12-19 04:03:00</td>\n      <td>2173-12-19 04:13:00</td>\n      <td>Nursing/other</td>\n      <td>Report</td>\n      <td>17770.0</td>\n      <td>NaN</td>\n      <td>NPN 7p-7a:\\n     Nuero: pt denies pain. OOB to...</td>\n    </tr>\n    <tr>\n      <th>1258821</th>\n      <td>1261175</td>\n      <td>68</td>\n      <td>170467.0</td>\n      <td>2173-12-16</td>\n      <td>2173-12-16 17:16:00</td>\n      <td>2173-12-16 17:18:00</td>\n      <td>Nursing/other</td>\n      <td>Report</td>\n      <td>20803.0</td>\n      <td>NaN</td>\n      <td>Resp Care\\n\\nSputum induction obtained for PCP...</td>\n    </tr>\n    <tr>\n      <th>1258822</th>\n      <td>1261176</td>\n      <td>68</td>\n      <td>170467.0</td>\n      <td>2173-12-17</td>\n      <td>2173-12-17 04:32:00</td>\n      <td>2173-12-17 04:44:00</td>\n      <td>Nursing/other</td>\n      <td>Report</td>\n      <td>14204.0</td>\n      <td>NaN</td>\n      <td>NPN 7p-7a\\nNeuro: Pt A&amp;O.  Able to ambulate to...</td>\n    </tr>\n    <tr>\n      <th>1258929</th>\n      <td>1261203</td>\n      <td>68</td>\n      <td>108329.0</td>\n      <td>2174-01-14</td>\n      <td>2174-01-14 05:55:00</td>\n      <td>2174-01-14 06:11:00</td>\n      <td>Nursing/other</td>\n      <td>Report</td>\n      <td>17693.0</td>\n      <td>NaN</td>\n      <td>npn 7p-7a\\n**please see carevue and fhp for ad...</td>\n    </tr>\n    <tr>\n      <th>1258930</th>\n      <td>1261204</td>\n      <td>68</td>\n      <td>108329.0</td>\n      <td>2174-01-14</td>\n      <td>2174-01-14 16:43:00</td>\n      <td>2174-01-14 16:51:00</td>\n      <td>Nursing/other</td>\n      <td>Report</td>\n      <td>20054.0</td>\n      <td>NaN</td>\n      <td>MICU WEST Nursing Progress Note (1130-1900)\\n\\...</td>\n    </tr>\n    <tr>\n      <th>1259066</th>\n      <td>1261177</td>\n      <td>68</td>\n      <td>170467.0</td>\n      <td>2173-12-17</td>\n      <td>2173-12-17 17:09:00</td>\n      <td>2173-12-17 17:26:00</td>\n      <td>Nursing/other</td>\n      <td>Report</td>\n      <td>20030.0</td>\n      <td>NaN</td>\n      <td>MICU/SICU NPN HD #2\\nEvents: PICC line placed ...</td>\n    </tr>\n    <tr>\n      <th>1259067</th>\n      <td>1261178</td>\n      <td>68</td>\n      <td>170467.0</td>\n      <td>2173-12-18</td>\n      <td>2173-12-18 04:54:00</td>\n      <td>2173-12-18 05:03:00</td>\n      <td>Nursing/other</td>\n      <td>Report</td>\n      <td>14204.0</td>\n      <td>NaN</td>\n      <td>NPN 7p-7a\\nNeuro: Alert and oriented-follows c...</td>\n    </tr>\n    <tr>\n      <th>1259129</th>\n      <td>1261187</td>\n      <td>68</td>\n      <td>108329.0</td>\n      <td>2174-01-09</td>\n      <td>2174-01-09 15:59:00</td>\n      <td>2174-01-09 17:08:00</td>\n      <td>Nursing/other</td>\n      <td>Report</td>\n      <td>14375.0</td>\n      <td>NaN</td>\n      <td>Nursing note:0700-1900\\n\\n41 yo Female with en...</td>\n    </tr>\n    <tr>\n      <th>1259130</th>\n      <td>1261188</td>\n      <td>68</td>\n      <td>108329.0</td>\n      <td>2174-01-09</td>\n      <td>2174-01-09 19:12:00</td>\n      <td>2174-01-09 19:21:00</td>\n      <td>Nursing/other</td>\n      <td>Report</td>\n      <td>15666.0</td>\n      <td>NaN</td>\n      <td>ADDENDUM....RECEIVED FURTHER 3 UNITS OF FFP TH...</td>\n    </tr>\n    <tr>\n      <th>1259578</th>\n      <td>1261173</td>\n      <td>68</td>\n      <td>170467.0</td>\n      <td>2173-12-16</td>\n      <td>2173-12-16 04:45:00</td>\n      <td>2173-12-16 05:09:00</td>\n      <td>Nursing/other</td>\n      <td>Report</td>\n      <td>20823.0</td>\n      <td>NaN</td>\n      <td>Micu nsg admission note\\n41yo female with AIDS...</td>\n    </tr>\n    <tr>\n      <th>1259579</th>\n      <td>1261174</td>\n      <td>68</td>\n      <td>170467.0</td>\n      <td>2173-12-16</td>\n      <td>2173-12-16 16:51:00</td>\n      <td>2173-12-16 17:08:00</td>\n      <td>Nursing/other</td>\n      <td>Report</td>\n      <td>14206.0</td>\n      <td>NaN</td>\n      <td>NSG 0700-1900\\nEvents: Attempted eating breakf...</td>\n    </tr>\n    <tr>\n      <th>1259970</th>\n      <td>1261200</td>\n      <td>68</td>\n      <td>108329.0</td>\n      <td>2174-01-13</td>\n      <td>2174-01-13 05:12:00</td>\n      <td>2174-01-13 05:23:00</td>\n      <td>Nursing/other</td>\n      <td>Report</td>\n      <td>19295.0</td>\n      <td>NaN</td>\n      <td>npn 1900-0700\\n\\nneuro: Pt is axox3, follows c...</td>\n    </tr>\n    <tr>\n      <th>1260121</th>\n      <td>1261184</td>\n      <td>68</td>\n      <td>108329.0</td>\n      <td>2174-01-08</td>\n      <td>2174-01-08 16:51:00</td>\n      <td>2174-01-08 17:43:00</td>\n      <td>Nursing/other</td>\n      <td>Report</td>\n      <td>14375.0</td>\n      <td>NaN</td>\n      <td>Admission Note:\\n\\nRFA:41 yo [**Hospital 352**...</td>\n    </tr>\n    <tr>\n      <th>1260122</th>\n      <td>1261185</td>\n      <td>68</td>\n      <td>108329.0</td>\n      <td>2174-01-08</td>\n      <td>2174-01-08 18:38:00</td>\n      <td>2174-01-08 18:41:00</td>\n      <td>Nursing/other</td>\n      <td>Report</td>\n      <td>20848.0</td>\n      <td>NaN</td>\n      <td>focus; addendum to above note\\nACID/BASE- PATI...</td>\n    </tr>\n    <tr>\n      <th>1260123</th>\n      <td>1261186</td>\n      <td>68</td>\n      <td>108329.0</td>\n      <td>2174-01-09</td>\n      <td>2174-01-09 04:58:00</td>\n      <td>2174-01-09 05:07:00</td>\n      <td>Nursing/other</td>\n      <td>Report</td>\n      <td>19295.0</td>\n      <td>NaN</td>\n      <td>npn [**6-24**] am\\n\\nPt transferred from the f...</td>\n    </tr>\n    <tr>\n      <th>1260177</th>\n      <td>1261195</td>\n      <td>68</td>\n      <td>108329.0</td>\n      <td>2174-01-12</td>\n      <td>2174-01-12 05:33:00</td>\n      <td>2174-01-12 06:07:00</td>\n      <td>Nursing/other</td>\n      <td>Report</td>\n      <td>19783.0</td>\n      <td>NaN</td>\n      <td>MICU [**Name8 (MD) **] RN Note 1900-0700\\n\\nNe...</td>\n    </tr>\n    <tr>\n      <th>1260178</th>\n      <td>1261196</td>\n      <td>68</td>\n      <td>108329.0</td>\n      <td>2174-01-12</td>\n      <td>2174-01-12 16:40:00</td>\n      <td>2174-01-12 17:07:00</td>\n      <td>Nursing/other</td>\n      <td>Report</td>\n      <td>20848.0</td>\n      <td>NaN</td>\n      <td>FOCUS; NURSING PROGRESS NOTE\\n41 YEAR OLD FEMA...</td>\n    </tr>\n    <tr>\n      <th>1260179</th>\n      <td>1261197</td>\n      <td>68</td>\n      <td>108329.0</td>\n      <td>2174-01-12</td>\n      <td>2174-01-12 17:34:00</td>\n      <td>2174-01-12 17:36:00</td>\n      <td>Nursing/other</td>\n      <td>Report</td>\n      <td>20803.0</td>\n      <td>NaN</td>\n      <td>Resp Care\\n\\nPt being followed by respiratory ...</td>\n    </tr>\n    <tr>\n      <th>1260180</th>\n      <td>1261198</td>\n      <td>68</td>\n      <td>108329.0</td>\n      <td>2174-01-12</td>\n      <td>2174-01-12 18:09:00</td>\n      <td>2174-01-12 18:10:00</td>\n      <td>Nursing/other</td>\n      <td>Report</td>\n      <td>20848.0</td>\n      <td>NaN</td>\n      <td>focus; addendum\\nCARDIAC- NA DOWN TO 129. DR [...</td>\n    </tr>\n    <tr>\n      <th>1260181</th>\n      <td>1261199</td>\n      <td>68</td>\n      <td>108329.0</td>\n      <td>2174-01-12</td>\n      <td>2174-01-12 19:09:00</td>\n      <td>2174-01-12 19:10:00</td>\n      <td>Nursing/other</td>\n      <td>Report</td>\n      <td>20848.0</td>\n      <td>NaN</td>\n      <td>focus; addendum\\nDISPO- ABOVE NOTE IS INCORREC...</td>\n    </tr>\n    <tr>\n      <th>1260186</th>\n      <td>1261201</td>\n      <td>68</td>\n      <td>108329.0</td>\n      <td>2174-01-13</td>\n      <td>2174-01-13 17:15:00</td>\n      <td>2174-01-13 17:27:00</td>\n      <td>Nursing/other</td>\n      <td>Report</td>\n      <td>15004.0</td>\n      <td>NaN</td>\n      <td>MICU npn 0700-1900\\nEVENTS: CRRT d/c at 11:00,...</td>\n    </tr>\n    <tr>\n      <th>1260187</th>\n      <td>1261202</td>\n      <td>68</td>\n      <td>108329.0</td>\n      <td>2174-01-13</td>\n      <td>2174-01-13 17:44:00</td>\n      <td>2174-01-13 17:47:00</td>\n      <td>Nursing/other</td>\n      <td>Report</td>\n      <td>21319.0</td>\n      <td>NaN</td>\n      <td>Respiratory therapist\\nPatient awake and alert...</td>\n    </tr>\n    <tr>\n      <th>1260967</th>\n      <td>1261192</td>\n      <td>68</td>\n      <td>108329.0</td>\n      <td>2174-01-11</td>\n      <td>2174-01-11 05:50:00</td>\n      <td>2174-01-11 06:45:00</td>\n      <td>Nursing/other</td>\n      <td>Report</td>\n      <td>14375.0</td>\n      <td>NaN</td>\n      <td>Nursing Note:1900-0730\\n\\nCode Status: DNR/DNI...</td>\n    </tr>\n    <tr>\n      <th>1260968</th>\n      <td>1261193</td>\n      <td>68</td>\n      <td>108329.0</td>\n      <td>2174-01-11</td>\n      <td>2174-01-11 16:19:00</td>\n      <td>2174-01-11 16:38:00</td>\n      <td>Nursing/other</td>\n      <td>Report</td>\n      <td>20848.0</td>\n      <td>NaN</td>\n      <td>FOCUS; NURSING PROGRESS NOTE\\n41 YEAR OLD WITH...</td>\n    </tr>\n    <tr>\n      <th>1260969</th>\n      <td>1261194</td>\n      <td>68</td>\n      <td>108329.0</td>\n      <td>2174-01-11</td>\n      <td>2174-01-11 18:34:00</td>\n      <td>2174-01-11 18:37:00</td>\n      <td>Nursing/other</td>\n      <td>Report</td>\n      <td>20803.0</td>\n      <td>NaN</td>\n      <td>Resp Care\\n\\nPt admitted from floors with hx a...</td>\n    </tr>\n    <tr>\n      <th>1261169</th>\n      <td>1261181</td>\n      <td>68</td>\n      <td>170467.0</td>\n      <td>2173-12-31</td>\n      <td>2173-12-31 03:44:00</td>\n      <td>2173-12-31 04:17:00</td>\n      <td>Nursing/other</td>\n      <td>Report</td>\n      <td>20948.0</td>\n      <td>NaN</td>\n      <td>MICU Admission Note.\\n\\nPt. is 41 y.o. female ...</td>\n    </tr>\n    <tr>\n      <th>1261457</th>\n      <td>1261182</td>\n      <td>68</td>\n      <td>170467.0</td>\n      <td>2173-12-31</td>\n      <td>2173-12-31 15:37:00</td>\n      <td>2173-12-31 15:44:00</td>\n      <td>Nursing/other</td>\n      <td>Report</td>\n      <td>17770.0</td>\n      <td>NaN</td>\n      <td>NPN 7A-7P:   PLEASE SEE TRANSFER NOTE FOR EVEN...</td>\n    </tr>\n    <tr>\n      <th>1261458</th>\n      <td>1261183</td>\n      <td>68</td>\n      <td>108329.0</td>\n      <td>2174-01-08</td>\n      <td>2174-01-08 14:56:00</td>\n      <td>2174-01-08 14:58:00</td>\n      <td>Nursing/other</td>\n      <td>Report</td>\n      <td>17738.0</td>\n      <td>NaN</td>\n      <td>respiratory care\\npt was seen and treated with...</td>\n    </tr>\n    <tr>\n      <th>1261966</th>\n      <td>1261179</td>\n      <td>68</td>\n      <td>170467.0</td>\n      <td>2173-12-18</td>\n      <td>2173-12-18 16:40:00</td>\n      <td>2173-12-18 16:58:00</td>\n      <td>Nursing/other</td>\n      <td>Report</td>\n      <td>20823.0</td>\n      <td>NaN</td>\n      <td>Micu nsg progress note\\nNeuro- Alert oriented ...</td>\n    </tr>\n  </tbody>\n</table>\n</div>"
     },
     "execution_count": 15,
     "metadata": {},
     "output_type": "execute_result"
    }
   ],
   "source": [
    "notes_df[notes_df['SUBJECT_ID'] == 68]"
   ],
   "metadata": {
    "collapsed": false,
    "ExecuteTime": {
     "end_time": "2023-11-10T16:25:47.661494Z",
     "start_time": "2023-11-10T16:25:47.648841Z"
    }
   },
   "id": "77edd4de1a689c2a"
  },
  {
   "cell_type": "code",
   "execution_count": 15,
   "outputs": [],
   "source": [],
   "metadata": {
    "collapsed": false,
    "ExecuteTime": {
     "end_time": "2023-11-10T16:25:48.332041Z",
     "start_time": "2023-11-10T16:25:48.328332Z"
    }
   },
   "id": "8385f97d4762fec3"
  },
  {
   "cell_type": "code",
   "execution_count": 16,
   "outputs": [
    {
     "data": {
      "text/plain": "ADMISSION_TYPE\nELECTIVE      7706\nEMERGENCY    42071\nNEWBORN       7863\nURGENT        1336\ndtype: int64"
     },
     "execution_count": 16,
     "metadata": {},
     "output_type": "execute_result"
    }
   ],
   "source": [
    "adm_df.groupby(['ADMISSION_TYPE']).size()"
   ],
   "metadata": {
    "collapsed": false,
    "ExecuteTime": {
     "end_time": "2023-11-10T16:25:49.130621Z",
     "start_time": "2023-11-10T16:25:49.117596Z"
    }
   },
   "id": "2421859d75c46820"
  },
  {
   "cell_type": "code",
   "execution_count": 17,
   "outputs": [
    {
     "name": "stdout",
     "output_type": "stream",
     "text": [
      "datetime64[ns]\n",
      "datetime64[ns]\n",
      "datetime64[ns]\n"
     ]
    }
   ],
   "source": [
    "print(adm_df.ADMITTIME.dtypes)\n",
    "print(adm_df.DISCHTIME.dtypes)\n",
    "print(adm_df.DEATHTIME.dtypes)"
   ],
   "metadata": {
    "collapsed": false,
    "ExecuteTime": {
     "end_time": "2023-11-10T16:25:49.917536Z",
     "start_time": "2023-11-10T16:25:49.912881Z"
    }
   },
   "id": "5313ae0f9fefcff2"
  },
  {
   "cell_type": "code",
   "execution_count": 18,
   "outputs": [],
   "source": [
    "adm_df = adm_df.sort_values(['SUBJECT_ID','ADMITTIME'])\n",
    "adm_df = adm_df.reset_index(drop = True)"
   ],
   "metadata": {
    "collapsed": false,
    "ExecuteTime": {
     "end_time": "2023-11-10T16:25:50.750988Z",
     "start_time": "2023-11-10T16:25:50.717364Z"
    }
   },
   "id": "ddc84f7e80c8c963"
  },
  {
   "cell_type": "code",
   "execution_count": 19,
   "outputs": [
    {
     "data": {
      "text/plain": "   ROW_ID  SUBJECT_ID  HADM_ID           ADMITTIME           DISCHTIME  \\\n0       1           2   163353 2138-07-17 19:04:00 2138-07-21 15:48:00   \n1       2           3   145834 2101-10-20 19:08:00 2101-10-31 13:58:00   \n2       3           4   185777 2191-03-16 00:28:00 2191-03-23 18:41:00   \n3       4           5   178980 2103-02-02 04:31:00 2103-02-04 12:15:00   \n4       5           6   107064 2175-05-30 07:15:00 2175-06-15 16:00:00   \n\n  DEATHTIME ADMISSION_TYPE         ADMISSION_LOCATION  \\\n0       NaT        NEWBORN  PHYS REFERRAL/NORMAL DELI   \n1       NaT      EMERGENCY       EMERGENCY ROOM ADMIT   \n2       NaT      EMERGENCY       EMERGENCY ROOM ADMIT   \n3       NaT        NEWBORN  PHYS REFERRAL/NORMAL DELI   \n4       NaT       ELECTIVE  PHYS REFERRAL/NORMAL DELI   \n\n          DISCHARGE_LOCATION INSURANCE LANGUAGE           RELIGION  \\\n0                       HOME   Private      NaN      NOT SPECIFIED   \n1                        SNF  Medicare      NaN           CATHOLIC   \n2  HOME WITH HOME IV PROVIDR   Private      NaN  PROTESTANT QUAKER   \n3                       HOME   Private      NaN           BUDDHIST   \n4           HOME HEALTH CARE  Medicare     ENGL      NOT SPECIFIED   \n\n  MARITAL_STATUS ETHNICITY            EDREGTIME            EDOUTTIME  \\\n0            NaN     ASIAN                  NaN                  NaN   \n1        MARRIED     WHITE  2101-10-20 17:09:00  2101-10-20 19:24:00   \n2         SINGLE     WHITE  2191-03-15 13:10:00  2191-03-16 01:10:00   \n3            NaN     ASIAN                  NaN                  NaN   \n4        MARRIED     WHITE                  NaN                  NaN   \n\n                             DIAGNOSIS  HOSPITAL_EXPIRE_FLAG  \\\n0                              NEWBORN                     0   \n1                          HYPOTENSION                     0   \n2  FEVER,DEHYDRATION,FAILURE TO THRIVE                     0   \n3                              NEWBORN                     0   \n4            CHRONIC RENAL FAILURE/SDA                     0   \n\n   HAS_CHARTEVENTS_DATA time_diff  \n0                     1       NaT  \n1                     1       NaT  \n2                     1       NaT  \n3                     1       NaT  \n4                     1       NaT  ",
      "text/html": "<div>\n<style scoped>\n    .dataframe tbody tr th:only-of-type {\n        vertical-align: middle;\n    }\n\n    .dataframe tbody tr th {\n        vertical-align: top;\n    }\n\n    .dataframe thead th {\n        text-align: right;\n    }\n</style>\n<table border=\"1\" class=\"dataframe\">\n  <thead>\n    <tr style=\"text-align: right;\">\n      <th></th>\n      <th>ROW_ID</th>\n      <th>SUBJECT_ID</th>\n      <th>HADM_ID</th>\n      <th>ADMITTIME</th>\n      <th>DISCHTIME</th>\n      <th>DEATHTIME</th>\n      <th>ADMISSION_TYPE</th>\n      <th>ADMISSION_LOCATION</th>\n      <th>DISCHARGE_LOCATION</th>\n      <th>INSURANCE</th>\n      <th>LANGUAGE</th>\n      <th>RELIGION</th>\n      <th>MARITAL_STATUS</th>\n      <th>ETHNICITY</th>\n      <th>EDREGTIME</th>\n      <th>EDOUTTIME</th>\n      <th>DIAGNOSIS</th>\n      <th>HOSPITAL_EXPIRE_FLAG</th>\n      <th>HAS_CHARTEVENTS_DATA</th>\n      <th>time_diff</th>\n    </tr>\n  </thead>\n  <tbody>\n    <tr>\n      <th>0</th>\n      <td>1</td>\n      <td>2</td>\n      <td>163353</td>\n      <td>2138-07-17 19:04:00</td>\n      <td>2138-07-21 15:48:00</td>\n      <td>NaT</td>\n      <td>NEWBORN</td>\n      <td>PHYS REFERRAL/NORMAL DELI</td>\n      <td>HOME</td>\n      <td>Private</td>\n      <td>NaN</td>\n      <td>NOT SPECIFIED</td>\n      <td>NaN</td>\n      <td>ASIAN</td>\n      <td>NaN</td>\n      <td>NaN</td>\n      <td>NEWBORN</td>\n      <td>0</td>\n      <td>1</td>\n      <td>NaT</td>\n    </tr>\n    <tr>\n      <th>1</th>\n      <td>2</td>\n      <td>3</td>\n      <td>145834</td>\n      <td>2101-10-20 19:08:00</td>\n      <td>2101-10-31 13:58:00</td>\n      <td>NaT</td>\n      <td>EMERGENCY</td>\n      <td>EMERGENCY ROOM ADMIT</td>\n      <td>SNF</td>\n      <td>Medicare</td>\n      <td>NaN</td>\n      <td>CATHOLIC</td>\n      <td>MARRIED</td>\n      <td>WHITE</td>\n      <td>2101-10-20 17:09:00</td>\n      <td>2101-10-20 19:24:00</td>\n      <td>HYPOTENSION</td>\n      <td>0</td>\n      <td>1</td>\n      <td>NaT</td>\n    </tr>\n    <tr>\n      <th>2</th>\n      <td>3</td>\n      <td>4</td>\n      <td>185777</td>\n      <td>2191-03-16 00:28:00</td>\n      <td>2191-03-23 18:41:00</td>\n      <td>NaT</td>\n      <td>EMERGENCY</td>\n      <td>EMERGENCY ROOM ADMIT</td>\n      <td>HOME WITH HOME IV PROVIDR</td>\n      <td>Private</td>\n      <td>NaN</td>\n      <td>PROTESTANT QUAKER</td>\n      <td>SINGLE</td>\n      <td>WHITE</td>\n      <td>2191-03-15 13:10:00</td>\n      <td>2191-03-16 01:10:00</td>\n      <td>FEVER,DEHYDRATION,FAILURE TO THRIVE</td>\n      <td>0</td>\n      <td>1</td>\n      <td>NaT</td>\n    </tr>\n    <tr>\n      <th>3</th>\n      <td>4</td>\n      <td>5</td>\n      <td>178980</td>\n      <td>2103-02-02 04:31:00</td>\n      <td>2103-02-04 12:15:00</td>\n      <td>NaT</td>\n      <td>NEWBORN</td>\n      <td>PHYS REFERRAL/NORMAL DELI</td>\n      <td>HOME</td>\n      <td>Private</td>\n      <td>NaN</td>\n      <td>BUDDHIST</td>\n      <td>NaN</td>\n      <td>ASIAN</td>\n      <td>NaN</td>\n      <td>NaN</td>\n      <td>NEWBORN</td>\n      <td>0</td>\n      <td>1</td>\n      <td>NaT</td>\n    </tr>\n    <tr>\n      <th>4</th>\n      <td>5</td>\n      <td>6</td>\n      <td>107064</td>\n      <td>2175-05-30 07:15:00</td>\n      <td>2175-06-15 16:00:00</td>\n      <td>NaT</td>\n      <td>ELECTIVE</td>\n      <td>PHYS REFERRAL/NORMAL DELI</td>\n      <td>HOME HEALTH CARE</td>\n      <td>Medicare</td>\n      <td>ENGL</td>\n      <td>NOT SPECIFIED</td>\n      <td>MARRIED</td>\n      <td>WHITE</td>\n      <td>NaN</td>\n      <td>NaN</td>\n      <td>CHRONIC RENAL FAILURE/SDA</td>\n      <td>0</td>\n      <td>1</td>\n      <td>NaT</td>\n    </tr>\n  </tbody>\n</table>\n</div>"
     },
     "execution_count": 19,
     "metadata": {},
     "output_type": "execute_result"
    }
   ],
   "source": [
    "adm_df.head(5)"
   ],
   "metadata": {
    "collapsed": false,
    "ExecuteTime": {
     "end_time": "2023-11-10T16:25:51.307002Z",
     "start_time": "2023-11-10T16:25:51.304284Z"
    }
   },
   "id": "ad900647c90b1d6d"
  },
  {
   "cell_type": "code",
   "execution_count": 20,
   "outputs": [],
   "source": [
    "adm_df['NEXT_ADMITTIME'] = adm_df.groupby('SUBJECT_ID').ADMITTIME.shift(-1)\n",
    "adm_df['NEXT_ADMISSION_TYPE'] = adm_df.groupby('SUBJECT_ID').ADMISSION_TYPE.shift(-1)"
   ],
   "metadata": {
    "collapsed": false,
    "ExecuteTime": {
     "end_time": "2023-11-10T16:25:51.995506Z",
     "start_time": "2023-11-10T16:25:51.989704Z"
    }
   },
   "id": "f4bc0821ae59a111"
  },
  {
   "cell_type": "code",
   "execution_count": 21,
   "outputs": [],
   "source": [
    "\n",
    "import numpy as np\n",
    "rows = adm_df.NEXT_ADMISSION_TYPE == 'ELECTIVE'\n",
    "adm_df.loc[rows,'NEXT_ADMITTIME'] = pd.NaT\n",
    "adm_df.loc[rows,'NEXT_ADMISSION_TYPE'] = np.NaN\n",
    "\n",
    "\n",
    "adm_df = adm_df.sort_values(['SUBJECT_ID','ADMITTIME'])\n",
    "\n",
    "adm_df[['NEXT_ADMITTIME','NEXT_ADMISSION_TYPE']] = adm_df.groupby(['SUBJECT_ID'])[['NEXT_ADMITTIME','NEXT_ADMISSION_TYPE']].fillna(method = 'bfill')"
   ],
   "metadata": {
    "collapsed": false,
    "ExecuteTime": {
     "end_time": "2023-11-10T16:25:58.220216Z",
     "start_time": "2023-11-10T16:25:52.653043Z"
    }
   },
   "id": "27aadf9a5fe1a3dd"
  },
  {
   "cell_type": "code",
   "execution_count": 22,
   "outputs": [],
   "source": [
    "adm_df['DAYS_TIL_NEXT_ADMIT'] = (adm_df.NEXT_ADMITTIME - adm_df.DISCHTIME).dt.total_seconds()/(24*60*60)"
   ],
   "metadata": {
    "collapsed": false,
    "ExecuteTime": {
     "end_time": "2023-11-10T16:25:58.225925Z",
     "start_time": "2023-11-10T16:25:58.221182Z"
    }
   },
   "id": "7f096228ebe56c3c"
  },
  {
   "cell_type": "code",
   "execution_count": 23,
   "outputs": [
    {
     "data": {
      "text/plain": "<Figure size 640x480 with 1 Axes>",
      "image/png": "[encoded data removed]"
     },
     "metadata": {},
     "output_type": "display_data"
    }
   ],
   "source": [
    "import matplotlib.pyplot as plt\n",
    "plt.hist(adm_df.loc[~adm_df.DAYS_TIL_NEXT_ADMIT.isnull(),'DAYS_TIL_NEXT_ADMIT'], bins =range(0,365,30))\n",
    "plt.xlim([0,365])\n",
    "plt.xlabel('Days between admissions')\n",
    "plt.ylabel('Counts')\n",
    "plt.xticks(np.arange(0, 365, 30))\n",
    "plt.title('Histogram of 30-day unplanned re-admissions over 365 days')\n",
    "plt.show()"
   ],
   "metadata": {
    "collapsed": false,
    "ExecuteTime": {
     "end_time": "2023-11-10T16:26:02.092076Z",
     "start_time": "2023-11-10T16:26:01.531714Z"
    }
   },
   "id": "ea401f0e55150522"
  },
  {
   "cell_type": "code",
   "execution_count": 24,
   "outputs": [
    {
     "data": {
      "text/plain": "Nursing/other        822497\nRadiology            522279\nNursing              223556\nECG                  209051\nPhysician            141624\nDischarge summary     59652\nEcho                  45794\nRespiratory           31739\nNutrition              9418\nGeneral                8301\nRehab Services         5431\nSocial Work            2670\nCase Management         967\nPharmacy                103\nConsult                  98\nName: CATEGORY, dtype: int64"
     },
     "execution_count": 24,
     "metadata": {},
     "output_type": "execute_result"
    }
   ],
   "source": [
    "notes_df['CATEGORY'].value_counts()"
   ],
   "metadata": {
    "collapsed": false,
    "ExecuteTime": {
     "end_time": "2023-11-10T16:26:13.195951Z",
     "start_time": "2023-11-10T16:26:13.192652Z"
    }
   },
   "id": "6af8d161c52101fa"
  },
  {
   "cell_type": "code",
   "execution_count": 25,
   "outputs": [],
   "source": [
    "notes_df.CHARTDATE = pd.to_datetime(notes_df.CHARTDATE, format = '%Y-%m-%d', errors = 'coerce')\n",
    "notes_df.CHARTTIME = pd.to_datetime(notes_df.CHARTTIME, format = '%Y-%m-%d %H:%M:%S', errors = 'coerce')"
   ],
   "metadata": {
    "collapsed": false,
    "ExecuteTime": {
     "end_time": "2023-11-10T16:26:29.442308Z",
     "start_time": "2023-11-10T16:26:27.921597Z"
    }
   },
   "id": "9bd9c172d62ea2b0"
  },
  {
   "cell_type": "code",
   "execution_count": 26,
   "outputs": [],
   "source": [
    "notes_df = notes_df.sort_values(['SUBJECT_ID','CHARTDATE', 'CHARTTIME'])\n",
    "notes_df = notes_df.reset_index(drop = True)"
   ],
   "metadata": {
    "collapsed": false,
    "ExecuteTime": {
     "end_time": "2023-11-10T16:26:34.122927Z",
     "start_time": "2023-11-10T16:26:32.626957Z"
    }
   },
   "id": "b4983c16f479228d"
  },
  {
   "cell_type": "code",
   "execution_count": 33,
   "outputs": [],
   "source": [
    "filtered_df['ADMITTIME'] = pd.to_datetime(adm_df['ADMITTIME'])"
   ],
   "metadata": {
    "collapsed": false,
    "ExecuteTime": {
     "end_time": "2023-11-10T16:30:18.704592Z",
     "start_time": "2023-11-10T16:30:18.695634Z"
    }
   },
   "id": "1a454806d0a474c8"
  },
  {
   "cell_type": "code",
   "execution_count": 34,
   "outputs": [
    {
     "data": {
      "text/plain": "array([2138, 2101, 2191, 2103, 2175, 2121, 2117, 2149, 2178, 2104, 2167,\n       2134, 2135, 2108, 2183, 2196, 2153, 2157, 2139, 2160, 2126, 2177,\n       2172, 2170, 2116, 2186, 2122, 2131, 2166, 2114, 2132, 2192, 2129,\n       2133, 2112, 2128, 2136, 2141, 2184, 2197, 2146, 2118, 2119, 2113,\n       2169, 2143, 2188, 2155, 2173, 2174, 2185, 2164, 2163, 2180, 2147,\n       2148, 2150, 2142, 2162, 2111, 2176, 2156, 2105, 2137, 2144, 2189,\n       2115, 2109, 2140, 2110, 2194, 2159, 2154, 2161, 2165, 2179, 2127,\n       2145, 2158, 2107, 2125, 2120, 2106, 2152, 2168, 2124, 2193, 2182,\n       2181, 2151, 2198, 2130, 2187, 2102, 2199, 2190, 2195, 2171, 2123,\n       2201, 2100, 2200, 2202, 2203, 2204, 2209, 2205, 2206, 2207, 2208,\n       2210])"
     },
     "execution_count": 34,
     "metadata": {},
     "output_type": "execute_result"
    }
   ],
   "source": [
    "distinct_years = pd.to_datetime(adm_df['ADMITTIME']).dt.year.unique()\n",
    "distinct_years  "
   ],
   "metadata": {
    "collapsed": false,
    "ExecuteTime": {
     "end_time": "2023-11-10T16:30:19.869699Z",
     "start_time": "2023-11-10T16:30:19.853321Z"
    }
   },
   "id": "2255ea9a67a4d8ea"
  },
  {
   "cell_type": "code",
   "execution_count": 41,
   "outputs": [],
   "source": [
    "filtered_df_year = adm_df[adm_df['ADMITTIME'].dt.year == 2132]\n",
    "# yearly_counts = adm_df.groupby(adm_df['ADMITTIME'].dt.year)['SUBJECT_ID'].count()\n",
    "# \n",
    "# # Print or use the yearly_counts Series\n",
    "# print(yearly_counts.sort_values())"
   ],
   "metadata": {
    "collapsed": false,
    "ExecuteTime": {
     "end_time": "2023-11-10T16:38:02.440582Z",
     "start_time": "2023-11-10T16:38:02.410235Z"
    }
   },
   "id": "af418caccfeddac1"
  },
  {
   "cell_type": "code",
   "execution_count": 42,
   "outputs": [
    {
     "data": {
      "text/plain": "       ROW_ID  SUBJECT_ID  HADM_ID           ADMITTIME           DISCHTIME  \\\n41         42          41   101757 2132-12-31 10:30:00 2133-01-27 15:45:00   \n64         65          65   143430 2132-08-10 07:13:00 2132-08-20 15:47:00   \n202       203         153   191611 2132-09-13 03:34:00 2132-09-15 12:25:00   \n251       252         189   119333 2132-09-08 07:15:00 2132-09-12 12:35:00   \n296       297         228   167764 2132-10-30 02:16:00 2132-11-10 17:30:00   \n...       ...         ...      ...                 ...                 ...   \n58592   58593       98797   105447 2132-12-24 20:06:00 2132-12-25 12:00:00   \n58722   58723       99213   149621 2132-08-09 15:00:00 2132-09-25 11:23:00   \n58782   58783       99383   121180 2132-12-27 21:03:00 2133-01-15 14:38:00   \n58884   58885       99707   132573 2132-02-10 22:13:00 2132-02-22 17:40:00   \n58940   58941       99883   198523 2132-09-15 00:36:00 2132-09-21 15:00:00   \n\n                DEATHTIME ADMISSION_TYPE         ADMISSION_LOCATION  \\\n41                    NaT       ELECTIVE  PHYS REFERRAL/NORMAL DELI   \n64                    NaT      EMERGENCY       EMERGENCY ROOM ADMIT   \n202                   NaT        NEWBORN  PHYS REFERRAL/NORMAL DELI   \n251                   NaT       ELECTIVE  PHYS REFERRAL/NORMAL DELI   \n296                   NaT      EMERGENCY       EMERGENCY ROOM ADMIT   \n...                   ...            ...                        ...   \n58592 2132-12-25 12:00:00      EMERGENCY       EMERGENCY ROOM ADMIT   \n58722                 NaT      EMERGENCY       EMERGENCY ROOM ADMIT   \n58782                 NaT      EMERGENCY  TRANSFER FROM HOSP/EXTRAM   \n58884                 NaT      EMERGENCY  CLINIC REFERRAL/PREMATURE   \n58940                 NaT       ELECTIVE  PHYS REFERRAL/NORMAL DELI   \n\n             DISCHARGE_LOCATION INSURANCE  ...             ETHNICITY  \\\n41      DISC-TRAN TO FEDERAL HC   Private  ...                 WHITE   \n64     REHAB/DISTINCT PART HOSP   Private  ...                 WHITE   \n202                        HOME   Private  ...                 WHITE   \n251            HOME HEALTH CARE   Private  ...                 WHITE   \n296    REHAB/DISTINCT PART HOSP  Medicare  ...                 WHITE   \n...                         ...       ...  ...                   ...   \n58592              DEAD/EXPIRED  Medicare  ...                 WHITE   \n58722  REHAB/DISTINCT PART HOSP   Private  ...                 OTHER   \n58782          HOME HEALTH CARE  Medicaid  ...  ASIAN - ASIAN INDIAN   \n58884                       SNF  Medicare  ...                 WHITE   \n58940          HOME HEALTH CARE  Medicare  ...                 WHITE   \n\n                 EDREGTIME            EDOUTTIME  \\\n41                     NaN                  NaN   \n64     2132-08-10 06:01:00  2132-08-10 08:23:00   \n202                    NaN                  NaN   \n251                    NaN                  NaN   \n296    2132-10-30 00:13:00  2132-10-30 05:40:00   \n...                    ...                  ...   \n58592  2132-12-24 18:53:00  2132-12-24 21:41:00   \n58722  2132-08-09 13:09:00  2132-08-09 15:54:00   \n58782                  NaN                  NaN   \n58884  2132-02-10 18:22:00  2132-02-11 00:07:00   \n58940                  NaN                  NaN   \n\n                                               DIAGNOSIS HOSPITAL_EXPIRE_FLAG  \\\n41                           RIGHT BRAIN STEM LESION/SDA                    0   \n64                                     S/P STRUCK BY CAR                    0   \n202                                              NEWBORN                    0   \n251    AORTIC STENOSIS\\AORTIC VALVE REPLACEMENT; RESE...                    0   \n296                                    LT FEMUR FRACTURE                    0   \n...                                                  ...                  ...   \n58592                              ALTERED MENTAL STATUS                    1   \n58722                                            S/P MCC                    0   \n58782                                       PANCREATITIS                    0   \n58884                                  SUBDURAL HEMATOMA                    0   \n58940  CORONARY ARTERY DISEASE\\CORONARY ARTERY BYPASS...                    0   \n\n      HAS_CHARTEVENTS_DATA         time_diff  NEXT_ADMITTIME  \\\n41                       1               NaT             NaT   \n64                       1               NaT             NaT   \n202                      1               NaT             NaT   \n251                      1               NaT             NaT   \n296                      1               NaT             NaT   \n...                    ...               ...             ...   \n58592                    1               NaT             NaT   \n58722                    1               NaT             NaT   \n58782                    1 497 days 23:05:00             NaT   \n58884                    1               NaT             NaT   \n58940                    1 265 days 06:55:00             NaT   \n\n       NEXT_ADMISSION_TYPE DAYS_TIL_NEXT_ADMIT  \n41                     NaN                 NaN  \n64                     NaN                 NaN  \n202                    NaN                 NaN  \n251                    NaN                 NaN  \n296                    NaN                 NaN  \n...                    ...                 ...  \n58592                  NaN                 NaN  \n58722                  NaN                 NaN  \n58782                  NaN                 NaN  \n58884                  NaN                 NaN  \n58940                  NaN                 NaN  \n\n[667 rows x 23 columns]",
      "text/html": "<div>\n<style scoped>\n    .dataframe tbody tr th:only-of-type {\n        vertical-align: middle;\n    }\n\n    .dataframe tbody tr th {\n        vertical-align: top;\n    }\n\n    .dataframe thead th {\n        text-align: right;\n    }\n</style>\n<table border=\"1\" class=\"dataframe\">\n  <thead>\n    <tr style=\"text-align: right;\">\n      <th></th>\n      <th>ROW_ID</th>\n      <th>SUBJECT_ID</th>\n      <th>HADM_ID</th>\n      <th>ADMITTIME</th>\n      <th>DISCHTIME</th>\n      <th>DEATHTIME</th>\n      <th>ADMISSION_TYPE</th>\n      <th>ADMISSION_LOCATION</th>\n      <th>DISCHARGE_LOCATION</th>\n      <th>INSURANCE</th>\n      <th>...</th>\n      <th>ETHNICITY</th>\n      <th>EDREGTIME</th>\n      <th>EDOUTTIME</th>\n      <th>DIAGNOSIS</th>\n      <th>HOSPITAL_EXPIRE_FLAG</th>\n      <th>HAS_CHARTEVENTS_DATA</th>\n      <th>time_diff</th>\n      <th>NEXT_ADMITTIME</th>\n      <th>NEXT_ADMISSION_TYPE</th>\n      <th>DAYS_TIL_NEXT_ADMIT</th>\n    </tr>\n  </thead>\n  <tbody>\n    <tr>\n      <th>41</th>\n      <td>42</td>\n      <td>41</td>\n      <td>101757</td>\n      <td>2132-12-31 10:30:00</td>\n      <td>2133-01-27 15:45:00</td>\n      <td>NaT</td>\n      <td>ELECTIVE</td>\n      <td>PHYS REFERRAL/NORMAL DELI</td>\n      <td>DISC-TRAN TO FEDERAL HC</td>\n      <td>Private</td>\n      <td>...</td>\n      <td>WHITE</td>\n      <td>NaN</td>\n      <td>NaN</td>\n      <td>RIGHT BRAIN STEM LESION/SDA</td>\n      <td>0</td>\n      <td>1</td>\n      <td>NaT</td>\n      <td>NaT</td>\n      <td>NaN</td>\n      <td>NaN</td>\n    </tr>\n    <tr>\n      <th>64</th>\n      <td>65</td>\n      <td>65</td>\n      <td>143430</td>\n      <td>2132-08-10 07:13:00</td>\n      <td>2132-08-20 15:47:00</td>\n      <td>NaT</td>\n      <td>EMERGENCY</td>\n      <td>EMERGENCY ROOM ADMIT</td>\n      <td>REHAB/DISTINCT PART HOSP</td>\n      <td>Private</td>\n      <td>...</td>\n      <td>WHITE</td>\n      <td>2132-08-10 06:01:00</td>\n      <td>2132-08-10 08:23:00</td>\n      <td>S/P STRUCK BY CAR</td>\n      <td>0</td>\n      <td>1</td>\n      <td>NaT</td>\n      <td>NaT</td>\n      <td>NaN</td>\n      <td>NaN</td>\n    </tr>\n    <tr>\n      <th>202</th>\n      <td>203</td>\n      <td>153</td>\n      <td>191611</td>\n      <td>2132-09-13 03:34:00</td>\n      <td>2132-09-15 12:25:00</td>\n      <td>NaT</td>\n      <td>NEWBORN</td>\n      <td>PHYS REFERRAL/NORMAL DELI</td>\n      <td>HOME</td>\n      <td>Private</td>\n      <td>...</td>\n      <td>WHITE</td>\n      <td>NaN</td>\n      <td>NaN</td>\n      <td>NEWBORN</td>\n      <td>0</td>\n      <td>1</td>\n      <td>NaT</td>\n      <td>NaT</td>\n      <td>NaN</td>\n      <td>NaN</td>\n    </tr>\n    <tr>\n      <th>251</th>\n      <td>252</td>\n      <td>189</td>\n      <td>119333</td>\n      <td>2132-09-08 07:15:00</td>\n      <td>2132-09-12 12:35:00</td>\n      <td>NaT</td>\n      <td>ELECTIVE</td>\n      <td>PHYS REFERRAL/NORMAL DELI</td>\n      <td>HOME HEALTH CARE</td>\n      <td>Private</td>\n      <td>...</td>\n      <td>WHITE</td>\n      <td>NaN</td>\n      <td>NaN</td>\n      <td>AORTIC STENOSIS\\AORTIC VALVE REPLACEMENT; RESE...</td>\n      <td>0</td>\n      <td>1</td>\n      <td>NaT</td>\n      <td>NaT</td>\n      <td>NaN</td>\n      <td>NaN</td>\n    </tr>\n    <tr>\n      <th>296</th>\n      <td>297</td>\n      <td>228</td>\n      <td>167764</td>\n      <td>2132-10-30 02:16:00</td>\n      <td>2132-11-10 17:30:00</td>\n      <td>NaT</td>\n      <td>EMERGENCY</td>\n      <td>EMERGENCY ROOM ADMIT</td>\n      <td>REHAB/DISTINCT PART HOSP</td>\n      <td>Medicare</td>\n      <td>...</td>\n      <td>WHITE</td>\n      <td>2132-10-30 00:13:00</td>\n      <td>2132-10-30 05:40:00</td>\n      <td>LT FEMUR FRACTURE</td>\n      <td>0</td>\n      <td>1</td>\n      <td>NaT</td>\n      <td>NaT</td>\n      <td>NaN</td>\n      <td>NaN</td>\n    </tr>\n    <tr>\n      <th>...</th>\n      <td>...</td>\n      <td>...</td>\n      <td>...</td>\n      <td>...</td>\n      <td>...</td>\n      <td>...</td>\n      <td>...</td>\n      <td>...</td>\n      <td>...</td>\n      <td>...</td>\n      <td>...</td>\n      <td>...</td>\n      <td>...</td>\n      <td>...</td>\n      <td>...</td>\n      <td>...</td>\n      <td>...</td>\n      <td>...</td>\n      <td>...</td>\n      <td>...</td>\n      <td>...</td>\n    </tr>\n    <tr>\n      <th>58592</th>\n      <td>58593</td>\n      <td>98797</td>\n      <td>105447</td>\n      <td>2132-12-24 20:06:00</td>\n      <td>2132-12-25 12:00:00</td>\n      <td>2132-12-25 12:00:00</td>\n      <td>EMERGENCY</td>\n      <td>EMERGENCY ROOM ADMIT</td>\n      <td>DEAD/EXPIRED</td>\n      <td>Medicare</td>\n      <td>...</td>\n      <td>WHITE</td>\n      <td>2132-12-24 18:53:00</td>\n      <td>2132-12-24 21:41:00</td>\n      <td>ALTERED MENTAL STATUS</td>\n      <td>1</td>\n      <td>1</td>\n      <td>NaT</td>\n      <td>NaT</td>\n      <td>NaN</td>\n      <td>NaN</td>\n    </tr>\n    <tr>\n      <th>58722</th>\n      <td>58723</td>\n      <td>99213</td>\n      <td>149621</td>\n      <td>2132-08-09 15:00:00</td>\n      <td>2132-09-25 11:23:00</td>\n      <td>NaT</td>\n      <td>EMERGENCY</td>\n      <td>EMERGENCY ROOM ADMIT</td>\n      <td>REHAB/DISTINCT PART HOSP</td>\n      <td>Private</td>\n      <td>...</td>\n      <td>OTHER</td>\n      <td>2132-08-09 13:09:00</td>\n      <td>2132-08-09 15:54:00</td>\n      <td>S/P MCC</td>\n      <td>0</td>\n      <td>1</td>\n      <td>NaT</td>\n      <td>NaT</td>\n      <td>NaN</td>\n      <td>NaN</td>\n    </tr>\n    <tr>\n      <th>58782</th>\n      <td>58783</td>\n      <td>99383</td>\n      <td>121180</td>\n      <td>2132-12-27 21:03:00</td>\n      <td>2133-01-15 14:38:00</td>\n      <td>NaT</td>\n      <td>EMERGENCY</td>\n      <td>TRANSFER FROM HOSP/EXTRAM</td>\n      <td>HOME HEALTH CARE</td>\n      <td>Medicaid</td>\n      <td>...</td>\n      <td>ASIAN - ASIAN INDIAN</td>\n      <td>NaN</td>\n      <td>NaN</td>\n      <td>PANCREATITIS</td>\n      <td>0</td>\n      <td>1</td>\n      <td>497 days 23:05:00</td>\n      <td>NaT</td>\n      <td>NaN</td>\n      <td>NaN</td>\n    </tr>\n    <tr>\n      <th>58884</th>\n      <td>58885</td>\n      <td>99707</td>\n      <td>132573</td>\n      <td>2132-02-10 22:13:00</td>\n      <td>2132-02-22 17:40:00</td>\n      <td>NaT</td>\n      <td>EMERGENCY</td>\n      <td>CLINIC REFERRAL/PREMATURE</td>\n      <td>SNF</td>\n      <td>Medicare</td>\n      <td>...</td>\n      <td>WHITE</td>\n      <td>2132-02-10 18:22:00</td>\n      <td>2132-02-11 00:07:00</td>\n      <td>SUBDURAL HEMATOMA</td>\n      <td>0</td>\n      <td>1</td>\n      <td>NaT</td>\n      <td>NaT</td>\n      <td>NaN</td>\n      <td>NaN</td>\n    </tr>\n    <tr>\n      <th>58940</th>\n      <td>58941</td>\n      <td>99883</td>\n      <td>198523</td>\n      <td>2132-09-15 00:36:00</td>\n      <td>2132-09-21 15:00:00</td>\n      <td>NaT</td>\n      <td>ELECTIVE</td>\n      <td>PHYS REFERRAL/NORMAL DELI</td>\n      <td>HOME HEALTH CARE</td>\n      <td>Medicare</td>\n      <td>...</td>\n      <td>WHITE</td>\n      <td>NaN</td>\n      <td>NaN</td>\n      <td>CORONARY ARTERY DISEASE\\CORONARY ARTERY BYPASS...</td>\n      <td>0</td>\n      <td>1</td>\n      <td>265 days 06:55:00</td>\n      <td>NaT</td>\n      <td>NaN</td>\n      <td>NaN</td>\n    </tr>\n  </tbody>\n</table>\n<p>667 rows × 23 columns</p>\n</div>"
     },
     "execution_count": 42,
     "metadata": {},
     "output_type": "execute_result"
    }
   ],
   "source": [
    "filtered_df_year"
   ],
   "metadata": {
    "collapsed": false,
    "ExecuteTime": {
     "end_time": "2023-11-10T16:38:11.581447Z",
     "start_time": "2023-11-10T16:38:11.561107Z"
    }
   },
   "id": "c031c538da9af242"
  },
  {
   "cell_type": "code",
   "execution_count": null,
   "outputs": [],
   "source": [
    "df_subj_concat_notes = notes_df[['SUBJECT_ID', 'TEXT']].copy()\n",
    "df_subj_concat_notes = df_subj_concat_notes.groupby('SUBJECT_ID')['TEXT'].agg(' '.join).reset_index()\n",
    "df_subj_concat_notes.rename(columns={\"TEXT\":\"TEXT_CONCAT\"}, inplace=True)"
   ],
   "metadata": {
    "collapsed": false,
    "ExecuteTime": {
     "start_time": "2023-11-10T16:12:59.145707Z"
    }
   },
   "id": "2b1003404a1372f7"
  },
  {
   "cell_type": "code",
   "execution_count": null,
   "outputs": [],
   "source": [
    "df_subj_concat_notes"
   ],
   "metadata": {
    "collapsed": false,
    "ExecuteTime": {
     "start_time": "2023-11-10T16:12:59.146466Z"
    }
   },
   "id": "ecaba12e36b1d0d9"
  },
  {
   "cell_type": "code",
   "execution_count": null,
   "outputs": [],
   "source": [
    "assert df_subj_concat_notes.duplicated(['SUBJECT_ID']).sum() == 0, 'Dulpicate SUBJECT_IDs exist'"
   ],
   "metadata": {
    "collapsed": false,
    "ExecuteTime": {
     "start_time": "2023-11-10T16:12:59.147027Z"
    }
   },
   "id": "fe017a66b151063f"
  },
  {
   "cell_type": "code",
   "execution_count": null,
   "outputs": [],
   "source": [
    "df_adm_notes = pd.merge(adm_df[['SUBJECT_ID','HADM_ID','ADMITTIME','DISCHTIME','DAYS_TIL_NEXT_ADMIT','NEXT_ADMITTIME','ADMISSION_TYPE','DEATHTIME']],\n",
    "                        df_subj_concat_notes, \n",
    "                        on = ['SUBJECT_ID'],\n",
    "                        how = 'left')\n",
    "assert len(adm_df) == len(df_adm_notes), 'Number of rows increased'"
   ],
   "metadata": {
    "collapsed": false,
    "ExecuteTime": {
     "end_time": "2023-11-10T16:12:59.147778Z",
     "start_time": "2023-11-10T16:12:59.147661Z"
    }
   },
   "id": "69611a9505b7e00a"
  },
  {
   "cell_type": "code",
   "execution_count": null,
   "outputs": [],
   "source": [
    "df_adm_notes['OUTPUT_LABEL'] = (df_adm_notes.DAYS_TIL_NEXT_ADMIT < 30).astype('int')"
   ],
   "metadata": {
    "collapsed": false,
    "ExecuteTime": {
     "start_time": "2023-11-10T16:12:59.148371Z"
    }
   },
   "id": "ac6d90bff51b15c9"
  },
  {
   "cell_type": "code",
   "execution_count": null,
   "outputs": [],
   "source": [
    "print('Number of positive samples:', (df_adm_notes.OUTPUT_LABEL == 1).sum())\n",
    "print('Number of negative samples:', (df_adm_notes.OUTPUT_LABEL == 0).sum())\n",
    "print('Total samples:', len(df_adm_notes))"
   ],
   "metadata": {
    "collapsed": false,
    "ExecuteTime": {
     "start_time": "2023-11-10T16:12:59.149163Z"
    }
   },
   "id": "a201d4fbe650fa92"
  },
  {
   "cell_type": "code",
   "execution_count": null,
   "outputs": [],
   "source": [
    "df_adm_notes_squashed = df_adm_notes[['SUBJECT_ID', 'TEXT_CONCAT', 'OUTPUT_LABEL']]"
   ],
   "metadata": {
    "collapsed": false,
    "ExecuteTime": {
     "start_time": "2023-11-10T16:12:59.149841Z"
    }
   },
   "id": "7d4c0ef585fcc2e"
  },
  {
   "cell_type": "code",
   "execution_count": null,
   "outputs": [],
   "source": [
    "df_subj_labels_squashed = df_adm_notes_squashed.groupby('SUBJECT_ID')[['OUTPUT_LABEL']].sum().reset_index()"
   ],
   "metadata": {
    "collapsed": false,
    "ExecuteTime": {
     "start_time": "2023-11-10T16:12:59.150509Z"
    }
   },
   "id": "1ddc764382983894"
  },
  {
   "cell_type": "code",
   "execution_count": null,
   "outputs": [],
   "source": [
    "df_subj_labels_squashed.rename(columns={\"OUTPUT_LABEL\":\"OUTPUT_LABELS_SUMMED\"}, inplace=True)"
   ],
   "metadata": {
    "collapsed": false,
    "ExecuteTime": {
     "start_time": "2023-11-10T16:12:59.151317Z"
    }
   },
   "id": "937c69b56b63c7ac"
  },
  {
   "cell_type": "code",
   "execution_count": null,
   "outputs": [],
   "source": [
    "df_subj_labels_squashed['OUTPUT_LABEL'] = (df_subj_labels_squashed['OUTPUT_LABELS_SUMMED'] >= 1).astype(int)"
   ],
   "metadata": {
    "collapsed": false,
    "ExecuteTime": {
     "start_time": "2023-11-10T16:12:59.152018Z"
    }
   },
   "id": "d8ecf64993b9d3af"
  },
  {
   "cell_type": "code",
   "execution_count": null,
   "outputs": [],
   "source": [
    "df_subj_labels_squashed"
   ],
   "metadata": {
    "collapsed": false,
    "ExecuteTime": {
     "start_time": "2023-11-10T16:12:59.152892Z"
    }
   },
   "id": "88341877e3e1299d"
  },
  {
   "cell_type": "code",
   "execution_count": null,
   "outputs": [],
   "source": [
    "df_subj_labels_squashed.drop(columns=['OUTPUT_LABELS_SUMMED'], inplace=True)"
   ],
   "metadata": {
    "collapsed": false,
    "ExecuteTime": {
     "start_time": "2023-11-10T16:12:59.153490Z"
    }
   },
   "id": "1cc0e52bb3ae95ad"
  },
  {
   "cell_type": "code",
   "execution_count": null,
   "outputs": [],
   "source": [
    "df_adm_notes_squashed.drop(columns=['OUTPUT_LABEL'], inplace=True)"
   ],
   "metadata": {
    "collapsed": false,
    "ExecuteTime": {
     "start_time": "2023-11-10T16:12:59.154173Z"
    }
   },
   "id": "7fdcba520e04bc28"
  },
  {
   "cell_type": "code",
   "execution_count": null,
   "outputs": [],
   "source": [
    "df_adm_notes_squashed.drop_duplicates(subset='SUBJECT_ID', keep='first', inplace=True)"
   ],
   "metadata": {
    "collapsed": false,
    "ExecuteTime": {
     "start_time": "2023-11-10T16:12:59.154957Z"
    }
   },
   "id": "30d333d6e5d8b980"
  },
  {
   "cell_type": "code",
   "execution_count": null,
   "outputs": [],
   "source": [
    "print('Length of df_adm_notes_squashed:', len(df_adm_notes_squashed))\n",
    "print('Length of df_subj_labels_squashed:', len(df_subj_labels_squashed))"
   ],
   "metadata": {
    "collapsed": false,
    "ExecuteTime": {
     "start_time": "2023-11-10T16:12:59.155722Z"
    }
   },
   "id": "919ba1ee3fcb3ea3"
  },
  {
   "cell_type": "code",
   "execution_count": null,
   "outputs": [],
   "source": [
    "df_adm_notes_merged = pd.merge(df_subj_labels_squashed[['SUBJECT_ID','OUTPUT_LABEL']],\n",
    "                        df_adm_notes_squashed, \n",
    "                        on = ['SUBJECT_ID'],\n",
    "                        how = 'left')\n",
    "assert len(df_subj_labels_squashed) == len(df_adm_notes_merged), 'Number of rows increased'"
   ],
   "metadata": {
    "collapsed": false,
    "ExecuteTime": {
     "start_time": "2023-11-10T16:12:59.156519Z"
    }
   },
   "id": "ac9a43827f0880c8"
  },
  {
   "cell_type": "code",
   "execution_count": null,
   "outputs": [],
   "source": [
    "df_adm_notes_merged = df_adm_notes_merged.sample(n=len(df_adm_notes_merged), random_state=42)\n",
    "df_adm_notes_merged = df_adm_notes_merged.reset_index(drop=True)\n"
   ],
   "metadata": {
    "collapsed": false,
    "ExecuteTime": {
     "start_time": "2023-11-10T16:12:59.157278Z"
    }
   },
   "id": "d6af76e97c7e931b"
  },
  {
   "cell_type": "code",
   "execution_count": null,
   "outputs": [],
   "source": [
    "df_adm_notes_merged"
   ],
   "metadata": {
    "collapsed": false,
    "ExecuteTime": {
     "start_time": "2023-11-10T16:12:59.157885Z"
    }
   },
   "id": "a2288a7942fab92b"
  },
  {
   "cell_type": "code",
   "execution_count": null,
   "outputs": [],
   "source": [
    "df_valid_and_test = df_adm_notes_merged.sample(frac=0.20, random_state=42)\n",
    "df_test = df_valid_and_test.sample(frac=0.5, random_state=42)\n",
    "df_valid = df_valid_and_test.drop(df_test.index)\n",
    "df_train = df_adm_notes_merged.drop(df_valid_and_test.index)\n",
    "assert len(df_adm_notes_merged) == (len(df_test)+len(df_valid)+len(df_train)),\"Split wasn't done mathematically correct.\""
   ],
   "metadata": {
    "collapsed": false,
    "ExecuteTime": {
     "start_time": "2023-11-10T16:12:59.158740Z"
    }
   },
   "id": "1c533ba6ba2f98db"
  },
  {
   "cell_type": "code",
   "execution_count": null,
   "outputs": [],
   "source": [
    "print(\"Training set prevalence (n = {:d}):\".format(len(df_train)), \"{:.2f}%\".format((df_train.OUTPUT_LABEL.sum()/len(df_train))*100))\n",
    "print(\"Validation set prevalence (n = {:d}):\".format(len(df_valid)), \"{:.2f}%\".format((df_valid.OUTPUT_LABEL.sum()/len(df_valid))*100))\n",
    "print(\"Test set prevalence (n = {:d}):\".format(len(df_test)), \"{:.2f}%\".format((df_test.OUTPUT_LABEL.sum()/len(df_test))*100))\n",
    "print(\"All samples (n = {:d})\".format(len(df_adm_notes_merged)))"
   ],
   "metadata": {
    "collapsed": false,
    "ExecuteTime": {
     "start_time": "2023-11-10T16:12:59.159502Z"
    }
   },
   "id": "dd6285d63d078c1f"
  },
  {
   "cell_type": "code",
   "execution_count": null,
   "outputs": [],
   "source": [
    "# pos_rows = df_train.OUTPUT_LABEL == 1\n",
    "# df_train_pos = df_train.loc[pos_rows]\n",
    "# df_train_neg = df_train.loc[~pos_rows]\n",
    "# # Merge the balanced data\n",
    "# df_train = pd.concat([df_train_pos, df_train_neg.sample(n = len(df_train_pos), random_state=42)], axis = 0)\n",
    "# # Shuffle the order of training samples\n",
    "# df_train = df_train.sample(n = len(df_train), random_state = 42).reset_index(drop=True)\n",
    "# print(\"Training set prevalence (n = {:d}):\".format(len(df_train)), \"{:.2f}%\".format((df_train.OUTPUT_LABEL.sum()/len(df_train))*100))\n",
    "\n",
    "## Should we Prevalence "
   ],
   "metadata": {
    "collapsed": false,
    "ExecuteTime": {
     "start_time": "2023-11-10T16:12:59.160149Z"
    }
   },
   "id": "142486f1dac62da2"
  },
  {
   "cell_type": "code",
   "execution_count": null,
   "outputs": [],
   "source": [
    "# Clean \n",
    "from nltk.tokenize import word_tokenize\n",
    "from nltk.corpus import stopwords\n",
    "import string\n",
    "import re\n",
    "from nltk import pos_tag\n",
    "from nltk.stem import WordNetLemmatizer # lemmatizes word based on its parts of speech\n",
    "print('Punctuation:', string.punctuation)\n",
    "print('NLTK English Stop Words:', '\\n', stopwords.words('english'))"
   ],
   "metadata": {
    "collapsed": false,
    "ExecuteTime": {
     "end_time": "2023-11-10T16:12:59.186129Z",
     "start_time": "2023-11-10T16:12:59.160725Z"
    }
   },
   "id": "69e4ab56b6e8cd9"
  },
  {
   "cell_type": "code",
   "execution_count": null,
   "outputs": [],
   "source": [
    "df = []"
   ],
   "metadata": {
    "collapsed": false,
    "ExecuteTime": {
     "start_time": "2023-11-10T16:12:59.161458Z"
    }
   },
   "id": "dd3234d6bc4208a2"
  }
 ],
 "metadata": {
  "kernelspec": {
   "display_name": "Python 3",
   "language": "python",
   "name": "python3"
  },
  "language_info": {
   "codemirror_mode": {
    "name": "ipython",
    "version": 2
   },
   "file_extension": ".py",
   "mimetype": "text/x-python",
   "name": "python",
   "nbconvert_exporter": "python",
   "pygments_lexer": "ipython2",
   "version": "2.7.6"
  }
 },
 "nbformat": 4,
 "nbformat_minor": 5
}
